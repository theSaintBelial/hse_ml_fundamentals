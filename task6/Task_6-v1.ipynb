{
 "cells": [
  {
   "cell_type": "markdown",
   "metadata": {
    "deletable": false,
    "editable": false,
    "id": "5i298Ph2YylJ",
    "nbgrader": {
     "cell_type": "markdown",
     "checksum": "13c872fe76a676a1ca17290bb037ec32",
     "grade": false,
     "grade_id": "cell-42f765b38ecbe058",
     "locked": true,
     "schema_version": 3,
     "solution": false,
     "task": false
    }
   },
   "source": [
    "### Логистическая регрессия"
   ]
  },
  {
   "cell_type": "markdown",
   "metadata": {
    "deletable": false,
    "editable": false,
    "id": "MkzITiUtWpi8",
    "nbgrader": {
     "cell_type": "markdown",
     "checksum": "caed81b295f7a8063802b62e4bfd931d",
     "grade": false,
     "grade_id": "cell-7fa91262f847802a",
     "locked": true,
     "schema_version": 3,
     "solution": false,
     "task": false
    }
   },
   "source": [
    "1. Загрузите данные `load_wine` из `sklearn.datasets`. Из данных исключите объекты класса 2.\n",
    " Отмасштабируйте признаки, используя класс `StandardScaler` с гиперпараметрами по умолчанию. Обучите логистическую регрессию и оцените важность признаков. Укажите название признака, который оказался наименее значимым."
   ]
  },
  {
   "cell_type": "markdown",
   "metadata": {
    "deletable": false,
    "editable": false,
    "id": "X792wQqfZl0h",
    "nbgrader": {
     "cell_type": "markdown",
     "checksum": "ee098d31dc4c95a994052b1c3e284b66",
     "grade": false,
     "grade_id": "cell-5382f705c024e108",
     "locked": true,
     "schema_version": 3,
     "solution": false,
     "task": false
    }
   },
   "source": [
    "Обратите внимание, целевое значение лежит по ключу `'target'`, матрица объекты-признаки лежит по ключу `'data'`\n",
    "\n"
   ]
  },
  {
   "cell_type": "code",
   "execution_count": null,
   "metadata": {
    "deletable": false,
    "nbgrader": {
     "cell_type": "code",
     "checksum": "034fa48399a5c9e19ebb0b40e20e93ee",
     "grade": false,
     "grade_id": "cell-396b152525bfb823",
     "locked": false,
     "schema_version": 3,
     "solution": true,
     "task": false
    }
   },
   "outputs": [],
   "source": [
    "feature_1 = \"имя признака, который оказался наименее значимым\" #...\n",
    "\n",
    "# your code here\n"
   ]
  },
  {
   "cell_type": "code",
   "execution_count": null,
   "metadata": {
    "deletable": false,
    "editable": false,
    "nbgrader": {
     "cell_type": "code",
     "checksum": "36a0bcc6db7af4f23a68f224a76602b2",
     "grade": false,
     "grade_id": "cell-a110e942b5628517",
     "locked": true,
     "schema_version": 3,
     "solution": false,
     "task": false
    }
   },
   "outputs": [],
   "source": [
    "# Небольшая проверка для себя\n",
    "# В таких блоках мы сравниваем хэш вашего ответа и верного. \n",
    "# Таким образом вы поймете, правильный ли ваш ответ на данное задание\n",
    "\n",
    "# Если ничего не вывелось, то ответ верный. Если ошибка, то проверьте это задание.\n",
    "import hashlib\n",
    "\n",
    "assert hashlib.sha256(str(feature_1).encode()).hexdigest() == 'd8430714c4a045c7a83815427407ee0dcc5c84939970b27f69b9ecc8f2e2ec6d'"
   ]
  },
  {
   "cell_type": "code",
   "execution_count": null,
   "metadata": {
    "deletable": false,
    "editable": false,
    "nbgrader": {
     "cell_type": "code",
     "checksum": "371e2db065415def8b627b08751af5d1",
     "grade": true,
     "grade_id": "cell-e9bcde8d23d1051a",
     "locked": true,
     "points": 1,
     "schema_version": 3,
     "solution": false,
     "task": false
    }
   },
   "outputs": [],
   "source": [
    "# проверка, просто запустите ячейку\n"
   ]
  },
  {
   "cell_type": "markdown",
   "metadata": {
    "deletable": false,
    "editable": false,
    "id": "o1b6Z6PZXujb",
    "nbgrader": {
     "cell_type": "markdown",
     "checksum": "eedefacf9a5cec5966fedfd4fbe1ec29",
     "grade": false,
     "grade_id": "cell-ccf79f7ddc1470f6",
     "locked": true,
     "schema_version": 3,
     "solution": false,
     "task": false
    }
   },
   "source": [
    "2. Загрузите данные `load_wine` из `sklearn.datasets`. Из обучающей части исключите объекты соответствующие классу 2. **Не масштабируйте признаки**. Обучите логистическую регрессию с гиперпараметрами по умолчанию.\n",
    "Выберите признак из предложенных, которому соответствует минимальный вес. \n"
   ]
  },
  {
   "cell_type": "code",
   "execution_count": null,
   "metadata": {
    "deletable": false,
    "id": "fgOQFU4lXyeR",
    "nbgrader": {
     "cell_type": "code",
     "checksum": "b85c5676fc38c90f0653ab7f18be43a1",
     "grade": false,
     "grade_id": "cell-8ffb2b13fc4c475c",
     "locked": false,
     "schema_version": 3,
     "solution": true,
     "task": false
    }
   },
   "outputs": [],
   "source": [
    "feature_2 = \"имя признака, которому соответствует минимальный веc\" #...\n",
    "\n",
    "# your code here\n"
   ]
  },
  {
   "cell_type": "code",
   "execution_count": null,
   "metadata": {
    "deletable": false,
    "editable": false,
    "nbgrader": {
     "cell_type": "code",
     "checksum": "466dd4f87634b191560291317aa10a16",
     "grade": false,
     "grade_id": "cell-3142d34397f69934",
     "locked": true,
     "schema_version": 3,
     "solution": false,
     "task": false
    }
   },
   "outputs": [],
   "source": [
    "# Небольшая проверка для себя\n",
    "import hashlib\n",
    "\n",
    "assert hashlib.sha256(str(feature_2).encode()).hexdigest() == '6692a40c9e151cb2917b1cdadfb25f98a4aca31f9b020b4ff320d04a99ccccf0'"
   ]
  },
  {
   "cell_type": "code",
   "execution_count": null,
   "metadata": {
    "deletable": false,
    "editable": false,
    "nbgrader": {
     "cell_type": "code",
     "checksum": "d9a7b4c980617eccd54476ca119db0a8",
     "grade": true,
     "grade_id": "cell-9cf2d2cd9a28b385",
     "locked": true,
     "points": 1,
     "schema_version": 3,
     "solution": false,
     "task": false
    }
   },
   "outputs": [],
   "source": [
    "# проверка, просто запустите ячейку\n"
   ]
  },
  {
   "cell_type": "markdown",
   "metadata": {
    "id": "_8oXSHX-W6Ho"
   },
   "source": [
    "3. Решается задача бинарной классификации. Дана матрица объекты признаки 𝑋 и ответы для объектов  𝑦. Обучите логистическую регрессию и предскажите класс объекта x_new"
   ]
  },
  {
   "cell_type": "code",
   "execution_count": null,
   "metadata": {
    "id": "AUXhaCISW-Ya"
   },
   "outputs": [],
   "source": [
    "X = np.array([[1, 1], [0.3, 0.7], [0, 4], [-2, -7], [0, -2], [-1, -1], [-2, 0]])\n",
    "y = np.array([1, 1, 1, 0, 0, 0, 0])\n",
    "x_new = np.array([[-5, 1]])"
   ]
  },
  {
   "cell_type": "code",
   "execution_count": null,
   "metadata": {
    "deletable": false,
    "id": "OzCBqBCvXO8y",
    "nbgrader": {
     "cell_type": "code",
     "checksum": "d0fa0d5783309053504b8f1eb54197cb",
     "grade": false,
     "grade_id": "cell-cbdab9ef6d54e946",
     "locked": false,
     "schema_version": 3,
     "solution": true,
     "task": false
    }
   },
   "outputs": [],
   "source": [
    "x_new_class = ...\n",
    "\n",
    "# your code here\n"
   ]
  },
  {
   "cell_type": "code",
   "execution_count": null,
   "metadata": {
    "deletable": false,
    "editable": false,
    "nbgrader": {
     "cell_type": "code",
     "checksum": "e26748ed88f46dafdf49af584f2a95ef",
     "grade": true,
     "grade_id": "cell-238d40281972f751",
     "locked": true,
     "points": 1,
     "schema_version": 3,
     "solution": false,
     "task": false
    }
   },
   "outputs": [],
   "source": [
    "# проверка, просто запустите ячейку\n"
   ]
  },
  {
   "cell_type": "markdown",
   "metadata": {
    "id": "q5U0QkzBY5qm"
   },
   "source": [
    "### Классификация текстов"
   ]
  },
  {
   "cell_type": "markdown",
   "metadata": {
    "id": "xiOjvUwmYAKV"
   },
   "source": [
    "4. Рассмотрим данные SMSSpamCollection из UCI (https://archive.ics.uci.edu/ml/machine-learning-databases/00228/). Данные содержат текстовую информацию и бинарное целевое значение (‘spam’, ‘ham’), Пусть в обучающую часть попадут первые 4000 объектов из таблицы, в тестовую часть оставшиеся объекты. Обучите `TfidfVectorizer` с гиперпараметрами по умолчанию на текстах из обучающей части и получите векторное представление для объектов обучающей и тестовой части. Укажите полученное число признаков.\n"
   ]
  },
  {
   "cell_type": "code",
   "execution_count": null,
   "metadata": {
    "id": "bYRWryzHYP_y"
   },
   "outputs": [],
   "source": [
    "import pandas as pd\n",
    "data = pd.read_csv('spam_collection.csv')"
   ]
  },
  {
   "cell_type": "code",
   "execution_count": null,
   "metadata": {
    "deletable": false,
    "id": "zxbB9k-wa7Ht",
    "nbgrader": {
     "cell_type": "code",
     "checksum": "7b4eac72e163b91e3167ffc16280f84a",
     "grade": false,
     "grade_id": "cell-1273c65906cac055",
     "locked": false,
     "schema_version": 3,
     "solution": true,
     "task": false
    }
   },
   "outputs": [],
   "source": [
    "num_features_1 = ...\n",
    "\n",
    "# your code here\n"
   ]
  },
  {
   "cell_type": "code",
   "execution_count": null,
   "metadata": {
    "deletable": false,
    "editable": false,
    "nbgrader": {
     "cell_type": "code",
     "checksum": "c726f3227e4b90baa88957b51f0afa5e",
     "grade": false,
     "grade_id": "cell-66397ced35629c23",
     "locked": true,
     "schema_version": 3,
     "solution": false,
     "task": false
    }
   },
   "outputs": [],
   "source": [
    "# Небольшая проверка для себя\n",
    "import hashlib\n",
    "\n",
    "assert hashlib.sha256(str(num_features_1).encode()).hexdigest() == 'f789909693b3898605450349b35d0218bc556c51f960f944e50ae242dc3446a3'"
   ]
  },
  {
   "cell_type": "code",
   "execution_count": null,
   "metadata": {
    "deletable": false,
    "editable": false,
    "nbgrader": {
     "cell_type": "code",
     "checksum": "66559d2ce0b3fa903f78d672958bd73d",
     "grade": true,
     "grade_id": "cell-76bb45b1a1cc1cd8",
     "locked": true,
     "points": 1,
     "schema_version": 3,
     "solution": false,
     "task": false
    }
   },
   "outputs": [],
   "source": [
    "# проверка, просто запустите ячейку\n"
   ]
  },
  {
   "cell_type": "markdown",
   "metadata": {
    "id": "8dMNfNMpYRLl"
   },
   "source": [
    "5.  Рассмотрим данные SMSSpamCollection из UCI (https://archive.ics.uci.edu/ml/machine-learning-databases/00228/). Данные содержат текстовую информацию и бинарное целевое значение (‘spam’, ‘ham’), Пусть в обучающую часть попадут первые 4000 объектов из таблицы, в тестовую часть оставшиеся объекты. Обучите `TfidfVectorizer`, помимо слов входящих в тексты, учитывайте биграммы (используйте гиперпараметр `ngram_range`). Укажите полученное число признаков."
   ]
  },
  {
   "cell_type": "code",
   "execution_count": null,
   "metadata": {
    "deletable": false,
    "id": "AOH8KDb9YaPl",
    "nbgrader": {
     "cell_type": "code",
     "checksum": "ceebf6ea146a99aad3793f439be30754",
     "grade": false,
     "grade_id": "cell-61108b2100b42237",
     "locked": false,
     "schema_version": 3,
     "solution": true,
     "task": false
    }
   },
   "outputs": [],
   "source": [
    "num_features_2 = ...\n",
    "\n",
    "# your code here\n"
   ]
  },
  {
   "cell_type": "code",
   "execution_count": null,
   "metadata": {
    "deletable": false,
    "editable": false,
    "nbgrader": {
     "cell_type": "code",
     "checksum": "3a700c2af98ac7fb1c192f3180664263",
     "grade": false,
     "grade_id": "cell-a811620b95bdf197",
     "locked": true,
     "schema_version": 3,
     "solution": false,
     "task": false
    }
   },
   "outputs": [],
   "source": [
    "# Небольшая проверка для себя\n",
    "import hashlib\n",
    "\n",
    "assert hashlib.sha256(str(num_features_2).encode()).hexdigest() == '47bfe59ccae78c33165906a215f8a317d14683e87b4a143b4b29cff6d86153c7'"
   ]
  },
  {
   "cell_type": "code",
   "execution_count": null,
   "metadata": {
    "deletable": false,
    "editable": false,
    "nbgrader": {
     "cell_type": "code",
     "checksum": "97d434dee8735a59c8fd192a75def8dc",
     "grade": true,
     "grade_id": "cell-67e45b72745e0b7c",
     "locked": true,
     "points": 1,
     "schema_version": 3,
     "solution": false,
     "task": false
    }
   },
   "outputs": [],
   "source": [
    "# проверка, просто запустите ячейку\n"
   ]
  },
  {
   "cell_type": "markdown",
   "metadata": {
    "id": "fKSMjXh9YhNQ"
   },
   "source": [
    "6. Рассмотрим данные SMSSpamCollection из UCI (https://archive.ics.uci.edu/ml/machine-learning-databases/00228/). Данные содержат текстовую информацию и бинарное целевое значение (‘spam’, ‘ham’), Пусть в обучающую часть попадут первые 4000 объектов из таблицы, в тестовую часть оставшиеся объекты. Обучите `TfidfVectorizer`, не учитывайте слова, которые встретились меньше 2 раз в обучающей выборке (используйте гиперпараметр `min_df`). Укажите полученное число признаков."
   ]
  },
  {
   "cell_type": "code",
   "execution_count": null,
   "metadata": {
    "deletable": false,
    "id": "62o2EgLdYmoL",
    "nbgrader": {
     "cell_type": "code",
     "checksum": "9b99e4e269e1d1e5d476525ff1b06448",
     "grade": false,
     "grade_id": "cell-df8fe0d7b329e433",
     "locked": false,
     "schema_version": 3,
     "solution": true,
     "task": false
    }
   },
   "outputs": [],
   "source": [
    "num_features_3 = ...\n",
    "\n",
    "# your code here\n"
   ]
  },
  {
   "cell_type": "code",
   "execution_count": null,
   "metadata": {
    "deletable": false,
    "editable": false,
    "nbgrader": {
     "cell_type": "code",
     "checksum": "f49b7647bd0ddaa868d9bb5a1d345264",
     "grade": false,
     "grade_id": "cell-821942c99a18496d",
     "locked": true,
     "schema_version": 3,
     "solution": false,
     "task": false
    }
   },
   "outputs": [],
   "source": [
    "# Небольшая проверка для себя\n",
    "import hashlib\n",
    "\n",
    "assert hashlib.sha256(str(num_features_3).encode()).hexdigest() == '6c95b7b73f16c436e85b79930d7493d5a043dbf9e70d12ad81ea4f764f664422'"
   ]
  },
  {
   "cell_type": "code",
   "execution_count": null,
   "metadata": {
    "deletable": false,
    "editable": false,
    "nbgrader": {
     "cell_type": "code",
     "checksum": "5cea7780a536cb33af01db4b6f8c2b3e",
     "grade": true,
     "grade_id": "cell-3e81028d4b78f132",
     "locked": true,
     "points": 1,
     "schema_version": 3,
     "solution": false,
     "task": false
    }
   },
   "outputs": [],
   "source": [
    "# проверка, просто запустите ячейку\n"
   ]
  },
  {
   "cell_type": "markdown",
   "metadata": {
    "id": "44KaLa4ZYoBB"
   },
   "source": [
    "7. Рассмотрим данные SMSSpamCollection из UCI (https://archive.ics.uci.edu/ml/machine-learning-databases/00228/). Данные содержат текстовую информацию и бинарное целевое значение (‘spam’, ‘ham’), Пусть в обучающую часть попадут первые 4000 объектов из таблицы, в тестовую часть оставшиеся объекты. Обучите `TfidfVectorizer` с гиперпараметрами по умолчанию на текстах из обучающей части и получите векторное представление для объектов обучающей и тестовой части. На полученных векторных представлениях обучите логистическую регрессию и оцените долю правильных ответов на тестовой части. Укажите полученное значение доли правильных ответов округленную до 2 знаков после запятой."
   ]
  },
  {
   "cell_type": "code",
   "execution_count": null,
   "metadata": {
    "deletable": false,
    "nbgrader": {
     "cell_type": "code",
     "checksum": "d93c07712edbb5e9025bf2e1be4d7f78",
     "grade": false,
     "grade_id": "cell-e5bacd89ac3ae44e",
     "locked": false,
     "schema_version": 3,
     "solution": true,
     "task": false
    }
   },
   "outputs": [],
   "source": [
    "accuracy = ...\n",
    "\n",
    "# your code here\n"
   ]
  },
  {
   "cell_type": "code",
   "execution_count": null,
   "metadata": {
    "deletable": false,
    "editable": false,
    "nbgrader": {
     "cell_type": "code",
     "checksum": "5ae5e2fb5152d659a47a4b5de2500d08",
     "grade": false,
     "grade_id": "cell-41c77d94a42e9e96",
     "locked": true,
     "schema_version": 3,
     "solution": false,
     "task": false
    }
   },
   "outputs": [],
   "source": [
    "# Небольшая проверка для себя\n",
    "import hashlib\n",
    "\n",
    "assert hashlib.sha256(str(round(accuracy, 2)).encode()).hexdigest() == 'bf5fac6e3a727da62db6ff6df60ddb6cac3f2acc0909ddbe6d221fd2c628ae01'"
   ]
  },
  {
   "cell_type": "code",
   "execution_count": null,
   "metadata": {
    "deletable": false,
    "editable": false,
    "id": "bjdTdX7cYqiN",
    "nbgrader": {
     "cell_type": "code",
     "checksum": "cbdd963032234608e0a2ca7bc51f6d55",
     "grade": true,
     "grade_id": "cell-f3f675fbc7a33e04",
     "locked": true,
     "points": 1,
     "schema_version": 3,
     "solution": false,
     "task": false
    }
   },
   "outputs": [],
   "source": [
    "# проверка, просто запустите ячейку\n"
   ]
  }
 ],
 "metadata": {
  "colab": {
   "collapsed_sections": [],
   "name": "Task6.ipynb",
   "provenance": []
  },
  "kernelspec": {
   "display_name": "Python 3",
   "language": "python",
   "name": "python3"
  },
  "language_info": {
   "codemirror_mode": {
    "name": "ipython",
    "version": 3
   },
   "file_extension": ".py",
   "mimetype": "text/x-python",
   "name": "python",
   "nbconvert_exporter": "python",
   "pygments_lexer": "ipython3",
   "version": "3.7.6"
  }
 },
 "nbformat": 4,
 "nbformat_minor": 1
}
