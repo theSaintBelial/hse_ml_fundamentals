{
 "cells": [
  {
   "cell_type": "markdown",
   "metadata": {
    "deletable": false,
    "editable": false,
    "id": "m25xQezbHhYN",
    "nbgrader": {
     "cell_type": "markdown",
     "checksum": "1057282c2b2de580893cbacf9c7081b2",
     "grade": false,
     "grade_id": "cell-bf0fed37f9deea39",
     "locked": true,
     "schema_version": 3,
     "solution": false,
     "task": false
    }
   },
   "source": [
    "### Домашнее задание по sklearn"
   ]
  },
  {
   "cell_type": "markdown",
   "metadata": {
    "deletable": false,
    "editable": false,
    "nbgrader": {
     "cell_type": "markdown",
     "checksum": "feffc42b7a6d3a9285caa5f9aa681c38",
     "grade": false,
     "grade_id": "cell-af6e38415a61f1e9",
     "locked": true,
     "schema_version": 3,
     "solution": false,
     "task": false
    }
   },
   "source": [
    "В следующей ячейке мы импортируем библиотеки и фиксируем случайность. Значение сида(seed), а в нашем случае, 42, фиксирует случайность. Что это значит? \n",
    "\n",
    "После написания такой строчки, операции из ```numpy```, например, генерация датасета, будут все еще случайными,\n",
    "но для всех запускающих этот код -- одинаковыми.\n",
    "\n",
    "Пожалуйста, обращайте на него внимание во всех заданиях. Это требуется для проверки ваших решений и его удаление или изменение может повлечь за собой ошибки."
   ]
  },
  {
   "cell_type": "code",
   "execution_count": null,
   "metadata": {
    "deletable": false,
    "editable": false,
    "nbgrader": {
     "cell_type": "code",
     "checksum": "be5e35e643d526ea9ab4dad7defb4db2",
     "grade": false,
     "grade_id": "cell-1f7f0469a5e793ac",
     "locked": true,
     "schema_version": 3,
     "solution": false,
     "task": false
    }
   },
   "outputs": [],
   "source": [
    "import sklearn\n",
    "import numpy as np\n",
    "\n",
    "np.random.seed(42)"
   ]
  },
  {
   "cell_type": "markdown",
   "metadata": {
    "deletable": false,
    "editable": false,
    "id": "a8DTKO4cLWCI",
    "nbgrader": {
     "cell_type": "markdown",
     "checksum": "8d8ef2d407a31788a5fa148a685a95e8",
     "grade": false,
     "grade_id": "cell-f08722ffd792572c",
     "locked": true,
     "schema_version": 3,
     "solution": false,
     "task": false
    }
   },
   "source": [
    "# Задание 1"
   ]
  },
  {
   "cell_type": "markdown",
   "metadata": {
    "deletable": false,
    "editable": false,
    "id": "x7MFiTFvO4He",
    "nbgrader": {
     "cell_type": "markdown",
     "checksum": "4cc3540243f27bee98f0f17a52609974",
     "grade": false,
     "grade_id": "cell-f6267a7c80cb9f2f",
     "locked": true,
     "schema_version": 3,
     "solution": false,
     "task": false
    }
   },
   "source": [
    "1. Получите выборку с помощью следующего вызова:\n",
    "```\n",
    "sklearn.datasets.make_moons(n_samples=1000, noise=0.5, random_state=10)\n",
    "```\n",
    "2. Разбейте выборку на `train` и `test` с помощью функции `train_test_split`. Через аргументы функции зафиксируйте `random_state=10` и `test_size=0.5`.\n",
    "\n",
    "3. Обучите класс `GridSearchCV` на обучающей выборке. Переберите параметр `n_neighbors` от 1 до 20. Чтобы получить детерменированный результат, передайте в параметр `cv` объект класса `KFold(n_splits=5, random_state=10)`. Этот класс будет отвечать за разбиение выборки во время кросс-валидации.\n",
    "\n",
    "Отправьте значение доли верных ответов(`accuracy`), которое получается, если применить обученный `GridSearchCV` к тестовой выбоке."
   ]
  },
  {
   "cell_type": "code",
   "execution_count": null,
   "metadata": {
    "deletable": false,
    "nbgrader": {
     "cell_type": "code",
     "checksum": "b5714f04724e0b17cdb186fd9d9a0f3b",
     "grade": false,
     "grade_id": "cell-c537c8dce9206055",
     "locked": false,
     "schema_version": 3,
     "solution": true,
     "task": false
    }
   },
   "outputs": [],
   "source": [
    "# your code here\n",
    "\n",
    "accuracy = ...\n",
    "\n",
    "# your code here\n"
   ]
  },
  {
   "cell_type": "code",
   "execution_count": null,
   "metadata": {
    "deletable": false,
    "editable": false,
    "nbgrader": {
     "cell_type": "code",
     "checksum": "9cc6da61e6ed5a8fad743f204dab12e1",
     "grade": false,
     "grade_id": "cell-682b9fcc64bc96e9",
     "locked": true,
     "schema_version": 3,
     "solution": false,
     "task": false
    }
   },
   "outputs": [],
   "source": [
    "# Небольшая проверка для себя\n",
    "# В таких блоках мы сравниваем хэш вашего ответа и верного. \n",
    "# Таким образом вы поймете, правильный ли ваш ответ на данное задание\n",
    "\n",
    "# Если ничего не вывелось, то ответ верный. Если ошибка, то проверьте это задание.\n",
    "import hashlib\n",
    "\n",
    "assert hashlib.sha256(str(round(accuracy, 2)).encode()).hexdigest() == '1e9d7c27c8bbc8ddf0055c93e064a62fa995d177fee28cc8fa949bc8a4db06f4'"
   ]
  },
  {
   "cell_type": "code",
   "execution_count": null,
   "metadata": {
    "deletable": false,
    "editable": false,
    "nbgrader": {
     "cell_type": "code",
     "checksum": "c86a12d22ba9b50786ce994f91b90a87",
     "grade": true,
     "grade_id": "cell-0365c27e77cc4094",
     "locked": true,
     "points": 1,
     "schema_version": 3,
     "solution": false,
     "task": false
    }
   },
   "outputs": [],
   "source": [
    "# проверка, просто запустите ячейку\n"
   ]
  },
  {
   "cell_type": "markdown",
   "metadata": {
    "deletable": false,
    "editable": false,
    "id": "HvXHv7DeY0Vj",
    "nbgrader": {
     "cell_type": "markdown",
     "checksum": "3a476a0f17248f6070ae70abf57fd449",
     "grade": false,
     "grade_id": "cell-ceec78734c6051b5",
     "locked": true,
     "schema_version": 3,
     "solution": false,
     "task": false
    }
   },
   "source": [
    "# Задание 2"
   ]
  },
  {
   "cell_type": "markdown",
   "metadata": {
    "deletable": false,
    "editable": false,
    "id": "z1hXs1liY4PJ",
    "nbgrader": {
     "cell_type": "markdown",
     "checksum": "85506441c93ee1f330757b32f461f20a",
     "grade": false,
     "grade_id": "cell-1e7d9f2697ad5cbf",
     "locked": true,
     "schema_version": 3,
     "solution": false,
     "task": false
    }
   },
   "source": [
    "Напишите функцию train_grid_search. Функция принимает выборку на вход. Она должна создать объект GridSearchCV, который переберет соседей от 1 до 20. Обучите GridSearchCV. Функция должна возвращать значение ключа mean_test_score у атрибута cv_results_ в классе GridSearchCV. Это поле содержит информацию о значении метрики для каждого параметра. В данном задании использовать KFold не требуется.\n",
    "\n",
    "Код ниже строит изображение зависимости качества от количества соседей."
   ]
  },
  {
   "cell_type": "code",
   "execution_count": null,
   "metadata": {},
   "outputs": [],
   "source": [
    "def train_grid_search(X, y):\n",
    "    # your code here"
   ]
  },
  {
   "cell_type": "code",
   "execution_count": null,
   "metadata": {},
   "outputs": [],
   "source": [
    "# аккуратно, не меняйте random_state\n",
    "X, y = make_moons(n_samples=1000, noise=0.5, random_state=10)\n",
    "test_score = train_grid_search(X, y)\n",
    "\n",
    "# небольшая проверка: если не выдалась ошибка, то можете продолжать\n",
    "assert (type(test_score) == np.ndarray), 'Переменная test_score должна иметь тип np.array()'\n",
    "assert (len(test_score) == 20), 'Переменная test_score должна иметь 20 значений (по 1 для каждого кол-ва соседей)'\n",
    "\n",
    "from matplotlib import pyplot as plt\n",
    "plt.plot(np.arange(1, 21), test_score)\n",
    "\n",
    "# проверяться будет переменная ```test_score```"
   ]
  },
  {
   "cell_type": "code",
   "execution_count": null,
   "metadata": {
    "deletable": false,
    "nbgrader": {
     "cell_type": "code",
     "checksum": "68a3c70604b0387a913101c40384109a",
     "grade": false,
     "grade_id": "cell-4c1682ee69adc484",
     "locked": false,
     "schema_version": 3,
     "solution": true,
     "task": false
    }
   },
   "outputs": [],
   "source": [
    "# проверка номер 1, просто запустите ячейку\n",
    "\n",
    "# your code here\n"
   ]
  },
  {
   "cell_type": "code",
   "execution_count": null,
   "metadata": {
    "deletable": false,
    "editable": false,
    "nbgrader": {
     "cell_type": "code",
     "checksum": "0ab0c7d2b654b93057250432189bca7f",
     "grade": true,
     "grade_id": "cell-5a09dff956971e3d",
     "locked": true,
     "points": 1,
     "schema_version": 3,
     "solution": false,
     "task": false
    }
   },
   "outputs": [],
   "source": [
    "# проверка номер 2, запускайте\n"
   ]
  },
  {
   "cell_type": "markdown",
   "metadata": {
    "deletable": false,
    "editable": false,
    "id": "_81BfXzGwdMA",
    "nbgrader": {
     "cell_type": "markdown",
     "checksum": "39c7bb9db1aedc3bcb9d0e26d97f6e4f",
     "grade": false,
     "grade_id": "cell-e57592d3fd8023aa",
     "locked": true,
     "schema_version": 3,
     "solution": false,
     "task": false
    }
   },
   "source": [
    "## Задание 3"
   ]
  },
  {
   "cell_type": "markdown",
   "metadata": {
    "deletable": false,
    "editable": false,
    "nbgrader": {
     "cell_type": "markdown",
     "checksum": "3f82ce20fb99c2459a76ad0a229d642b",
     "grade": false,
     "grade_id": "cell-43536c7bab7588f3",
     "locked": true,
     "schema_version": 3,
     "solution": false,
     "task": false
    }
   },
   "source": [
    "Загрузим данные:"
   ]
  },
  {
   "cell_type": "code",
   "execution_count": null,
   "metadata": {
    "deletable": false,
    "editable": false,
    "nbgrader": {
     "cell_type": "code",
     "checksum": "17a0aa875ebe349074323303232ec22c",
     "grade": false,
     "grade_id": "cell-2fcbb94dbba68c28",
     "locked": true,
     "schema_version": 3,
     "solution": false,
     "task": false
    }
   },
   "outputs": [],
   "source": [
    "!pip install python-mnist"
   ]
  },
  {
   "cell_type": "code",
   "execution_count": null,
   "metadata": {
    "deletable": false,
    "editable": false,
    "id": "k6GGCvvwxKhJ",
    "nbgrader": {
     "cell_type": "code",
     "checksum": "1d67b0ceab98d99f72ae515b7ed2fc7d",
     "grade": false,
     "grade_id": "cell-3a5e9407f8357c10",
     "locked": true,
     "schema_version": 3,
     "solution": false,
     "task": false
    }
   },
   "outputs": [],
   "source": [
    "from mnist import MNIST\n",
    "from matplotlib import pyplot as plt\n",
    "import numpy as np\n",
    "mndata = MNIST('', gz=True)\n",
    "images, labels = mndata.load_training()\n",
    "\n",
    "# Далее мы берем только 5000 картинок и меток, чтобы не ждать обучения слишком долго:\n",
    "images, labels = np.array(images)[:5000, :], np.array(labels)[:5000]"
   ]
  },
  {
   "cell_type": "code",
   "execution_count": null,
   "metadata": {
    "colab": {
     "base_uri": "https://localhost:8080/",
     "height": 284
    },
    "deletable": false,
    "editable": false,
    "id": "h2fzeJ5nz3K3",
    "nbgrader": {
     "cell_type": "code",
     "checksum": "11b63ff389dff87b7abefba0b80fd85c",
     "grade": false,
     "grade_id": "cell-9afcfb023d05851e",
     "locked": true,
     "schema_version": 3,
     "solution": false,
     "task": false
    },
    "outputId": "ad175547-5173-4d5a-aa55-5f1b7c36f529"
   },
   "outputs": [],
   "source": [
    "# Так вы можете посмотреть на данные. Например, это картинка номер 0. Можете посмотреть на любую другую!\n",
    "plt.imshow(images[0].reshape(28, 28))\n",
    "plt.show()"
   ]
  },
  {
   "cell_type": "markdown",
   "metadata": {
    "deletable": false,
    "editable": false,
    "id": "Xb0sb_IZ4n8s",
    "nbgrader": {
     "cell_type": "markdown",
     "checksum": "5c70d1c74a674d1e6289a8204f042168",
     "grade": false,
     "grade_id": "cell-5b6f4b543d2666b6",
     "locked": true,
     "schema_version": 3,
     "solution": false,
     "task": false
    }
   },
   "source": [
    "В этом задании вы будете работать с классическим датасетом MNIST. Код выше загрузил данные в переменные images и labels. Обучите knn с 30 ближайшими соседями. Предварительно разбейте выборку на train и test в соотношении 80/20 и ```random_state=10```. Какой `accuracy` вы получаете на тестовой выборке? Ответ округлите до 3 знаков после запятой."
   ]
  },
  {
   "cell_type": "code",
   "execution_count": null,
   "metadata": {
    "deletable": false,
    "nbgrader": {
     "cell_type": "code",
     "checksum": "86154a5cb982766f59490fea490651bb",
     "grade": false,
     "grade_id": "cell-c02bee6cf9470395",
     "locked": false,
     "schema_version": 3,
     "solution": true,
     "task": false
    }
   },
   "outputs": [],
   "source": [
    "accuracy = ...\n",
    "\n",
    "# your code here\n"
   ]
  },
  {
   "cell_type": "code",
   "execution_count": null,
   "metadata": {
    "deletable": false,
    "editable": false,
    "nbgrader": {
     "cell_type": "code",
     "checksum": "e9498f70dd4c5653d7173ab1ba7f3a27",
     "grade": false,
     "grade_id": "cell-a5e666d1f396caad",
     "locked": true,
     "schema_version": 3,
     "solution": false,
     "task": false
    }
   },
   "outputs": [],
   "source": [
    "# Небольшая проверка для себя\n",
    "import hashlib\n",
    "\n",
    "assert hashlib.sha256(str(accuracy).encode()).hexdigest() == 'c29699d04c899bb3ddb5bd406ee08397c32b1e1c5c7a8b024f95d815b9556394'"
   ]
  },
  {
   "cell_type": "code",
   "execution_count": null,
   "metadata": {
    "deletable": false,
    "editable": false,
    "nbgrader": {
     "cell_type": "code",
     "checksum": "cb54221b36b64864cce966f21d607e46",
     "grade": true,
     "grade_id": "cell-fbb39f6b07e0bad9",
     "locked": true,
     "points": 1,
     "schema_version": 3,
     "solution": false,
     "task": false
    }
   },
   "outputs": [],
   "source": [
    "# проверка, просто запустите ячейку\n"
   ]
  },
  {
   "cell_type": "markdown",
   "metadata": {
    "deletable": false,
    "editable": false,
    "id": "rx7GOKW0mhWj",
    "nbgrader": {
     "cell_type": "markdown",
     "checksum": "1af89bbd5fa138899a2b632f3d70251d",
     "grade": false,
     "grade_id": "cell-23994dfdf6ee2c07",
     "locked": true,
     "schema_version": 3,
     "solution": false,
     "task": false
    }
   },
   "source": [
    "# Задание 4 (неоцениваемое)\n",
    "\n",
    "Найдите примеры, которые были классифицированы не правильно. Найдите и визуализируйте 5 соседей неправильных предсказаний у любого ошибочного примера. Найти соседей точки можно с помощью метода kneighbors.  Почему они были классифицированы неправильно?"
   ]
  },
  {
   "cell_type": "code",
   "execution_count": null,
   "metadata": {
    "id": "Kplv1FnnmgmY"
   },
   "outputs": [],
   "source": [
    "# your code here"
   ]
  }
 ],
 "metadata": {
  "colab": {
   "collapsed_sections": [],
   "name": "Sklearn-HW.ipynb",
   "provenance": []
  },
  "kernelspec": {
   "display_name": "Python 3",
   "language": "python",
   "name": "python3"
  },
  "language_info": {
   "codemirror_mode": {
    "name": "ipython",
    "version": 3
   },
   "file_extension": ".py",
   "mimetype": "text/x-python",
   "name": "python",
   "nbconvert_exporter": "python",
   "pygments_lexer": "ipython3",
   "version": "3.7.6"
  }
 },
 "nbformat": 4,
 "nbformat_minor": 1
}
