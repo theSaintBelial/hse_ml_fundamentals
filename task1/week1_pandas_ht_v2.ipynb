{
 "cells": [
  {
   "cell_type": "markdown",
   "metadata": {
    "deletable": false,
    "editable": false,
    "nbgrader": {
     "cell_type": "markdown",
     "checksum": "13206465e1adc1261461b50a9663da41",
     "grade": false,
     "grade_id": "cell-5d08d72c730a8fc5",
     "locked": true,
     "schema_version": 3,
     "solution": false,
     "task": false
    }
   },
   "source": [
    "Мы скачали для вас файл \"math_students.csv\" (он рассматривался в семинаре). В следующей ячейке идет его загрузка. Пожалуйста, не меняйте названия переменных, которые мы для вас заготовили. **Только с ними** будет производиться скрытая проверка. Удачи!"
   ]
  },
  {
   "cell_type": "code",
   "execution_count": null,
   "metadata": {
    "deletable": false,
    "editable": false,
    "id": "mHCbkFpOXAXO",
    "nbgrader": {
     "cell_type": "code",
     "checksum": "16295f6ad605669aef87520b39fc9c33",
     "grade": false,
     "grade_id": "cell-c078c67324341f6d",
     "locked": true,
     "schema_version": 3,
     "solution": false,
     "task": false
    }
   },
   "outputs": [],
   "source": [
    "import pandas as pd\n",
    "import numpy as np\n",
    "data = pd.read_csv('math_students.csv', delimiter=',')"
   ]
  },
  {
   "cell_type": "markdown",
   "metadata": {
    "deletable": false,
    "editable": false,
    "nbgrader": {
     "cell_type": "markdown",
     "checksum": "949cac3a3b562a0670d3564add0c4378",
     "grade": false,
     "grade_id": "cell-3e5b83a4eb3eb5ed",
     "locked": true,
     "schema_version": 3,
     "solution": false,
     "task": false
    }
   },
   "source": [
    "Если вам надо скачать данные к себе на комьютер или google colab (зачем-либо), воспользуйтесь следующей командой без комментария:"
   ]
  },
  {
   "cell_type": "code",
   "execution_count": null,
   "metadata": {
    "deletable": false,
    "editable": false,
    "nbgrader": {
     "cell_type": "code",
     "checksum": "18210d627dff4b739756449bc6c50c87",
     "grade": false,
     "grade_id": "cell-161d74ccc55fe2b7",
     "locked": true,
     "schema_version": 3,
     "solution": false,
     "task": false
    }
   },
   "outputs": [],
   "source": [
    "# !wget --no-check-certificate 'https://docs.google.com/uc?export=download&id=1cq9JDz8-zwzoGL6udiT_ogHHRWdnsd1q' -O math_students.csv"
   ]
  },
  {
   "cell_type": "markdown",
   "metadata": {
    "deletable": false,
    "editable": false,
    "id": "1n6Q2mr1XAXX",
    "nbgrader": {
     "cell_type": "markdown",
     "checksum": "d395901da442b2f358a20c17ee2bcfcb",
     "grade": false,
     "grade_id": "cell-4587e4068ceb572c",
     "locked": true,
     "schema_version": 3,
     "solution": false,
     "task": false
    }
   },
   "source": [
    "1. Какая причина выбора школы была самой частой? В качестве ответа приведите соответствующее значение признака."
   ]
  },
  {
   "cell_type": "code",
   "execution_count": null,
   "metadata": {
    "deletable": false,
    "nbgrader": {
     "cell_type": "code",
     "checksum": "6ccca278a9b83d3f5cf0212fe9921a03",
     "grade": false,
     "grade_id": "cell-c6db84da783d6a75",
     "locked": false,
     "schema_version": 3,
     "solution": true,
     "task": false
    }
   },
   "outputs": [],
   "source": [
    "reason = ...\n",
    "\n",
    "\n",
    "\n",
    "# your code here\n"
   ]
  },
  {
   "cell_type": "code",
   "execution_count": null,
   "metadata": {
    "deletable": false,
    "editable": false,
    "nbgrader": {
     "cell_type": "code",
     "checksum": "09dfeb81b73fceff57ffd1b5d4abe678",
     "grade": false,
     "grade_id": "cell-d22cd475c171c148",
     "locked": true,
     "schema_version": 3,
     "solution": false,
     "task": false
    }
   },
   "outputs": [],
   "source": [
    "# Небольшая проверка для себя\n",
    "# В таких блоках мы сравниваем хэш вашего ответа и верного. \n",
    "# Таким образом вы поймете, правильный ли ваш ответ на данное задание\n",
    "\n",
    "# Если ничего не вывелось, то ответ верный. Если ошибка, то проверьте это задание.\n",
    "import hashlib\n",
    "\n",
    "assert hashlib.sha256(str(reason).encode()).hexdigest() == 'a908043ed469f361cd516f3bdd781341912b731a6ea3a5385af8514ec9ec02cc'"
   ]
  },
  {
   "cell_type": "code",
   "execution_count": null,
   "metadata": {
    "deletable": false,
    "editable": false,
    "nbgrader": {
     "cell_type": "code",
     "checksum": "4be3b43f5210c06f54310ab56f71b7de",
     "grade": true,
     "grade_id": "cell-25875c312d985717",
     "locked": true,
     "points": 1,
     "schema_version": 3,
     "solution": false,
     "task": false
    }
   },
   "outputs": [],
   "source": [
    "# проверка, просто запустите ячейку\n"
   ]
  },
  {
   "cell_type": "markdown",
   "metadata": {
    "deletable": false,
    "editable": false,
    "id": "02xcWVw0XAXb",
    "nbgrader": {
     "cell_type": "markdown",
     "checksum": "f7404fea75d4ebcab46c23f6265b0f2b",
     "grade": false,
     "grade_id": "cell-bc9b42ad72b03c44",
     "locked": true,
     "schema_version": 3,
     "solution": false,
     "task": false
    }
   },
   "source": [
    "2. Найдите количество студентов, у родителей которых нет никакого образования."
   ]
  },
  {
   "cell_type": "code",
   "execution_count": null,
   "metadata": {
    "deletable": false,
    "id": "rQCZTAydXAXc",
    "nbgrader": {
     "cell_type": "code",
     "checksum": "8b7367564fa659fec2474b4aedc76d0d",
     "grade": false,
     "grade_id": "cell-54dea2178d9fe013",
     "locked": false,
     "schema_version": 3,
     "solution": true,
     "task": false
    }
   },
   "outputs": [],
   "source": [
    "no_edu_num = ...\n",
    "\n",
    "# your code here\n"
   ]
  },
  {
   "cell_type": "code",
   "execution_count": null,
   "metadata": {
    "deletable": false,
    "editable": false,
    "nbgrader": {
     "cell_type": "code",
     "checksum": "f09cd91222fa3a1109a69d8dc0a70f6a",
     "grade": false,
     "grade_id": "cell-775f310c2814085b",
     "locked": true,
     "schema_version": 3,
     "solution": false,
     "task": false
    }
   },
   "outputs": [],
   "source": [
    "# Небольшая проверка для себя\n",
    "import hashlib\n",
    "\n",
    "assert hashlib.sha256(str(no_edu_num).encode()).hexdigest() == '5feceb66ffc86f38d952786c6d696c79c2dbc239dd4e91b46729d73a27fb57e9'"
   ]
  },
  {
   "cell_type": "code",
   "execution_count": null,
   "metadata": {
    "deletable": false,
    "editable": false,
    "nbgrader": {
     "cell_type": "code",
     "checksum": "be416ab16e3a641b388d7a2a100c993e",
     "grade": true,
     "grade_id": "cell-ee4478667768570f",
     "locked": true,
     "points": 1,
     "schema_version": 3,
     "solution": false,
     "task": false
    }
   },
   "outputs": [],
   "source": [
    "# проверка, просто запустите ячейку\n"
   ]
  },
  {
   "cell_type": "markdown",
   "metadata": {
    "deletable": false,
    "editable": false,
    "id": "hPZhCWolXAXg",
    "nbgrader": {
     "cell_type": "markdown",
     "checksum": "7a6870d44d27e1870de277b9fe2c7c65",
     "grade": false,
     "grade_id": "cell-ce04a0c6736b990b",
     "locked": true,
     "schema_version": 3,
     "solution": false,
     "task": false
    }
   },
   "source": [
    "3. Найдите минимальный возраст учащегося школы Mousinho da Silveira."
   ]
  },
  {
   "cell_type": "code",
   "execution_count": null,
   "metadata": {
    "deletable": false,
    "id": "iwbblqO-XAXg",
    "nbgrader": {
     "cell_type": "code",
     "checksum": "fe96d2392ffd5a1964f4a69c00c92cf8",
     "grade": false,
     "grade_id": "cell-9d26f7775e5efca6",
     "locked": false,
     "schema_version": 3,
     "solution": true,
     "task": false
    }
   },
   "outputs": [],
   "source": [
    "min_age = ...\n",
    "\n",
    "# your code here\n"
   ]
  },
  {
   "cell_type": "code",
   "execution_count": null,
   "metadata": {
    "deletable": false,
    "editable": false,
    "nbgrader": {
     "cell_type": "code",
     "checksum": "f4187479c2cec14e4a69c6ba220d3a4e",
     "grade": false,
     "grade_id": "cell-5e80e1abb3533923",
     "locked": true,
     "schema_version": 3,
     "solution": false,
     "task": false
    }
   },
   "outputs": [],
   "source": [
    "# Небольшая проверка для себя\n",
    "import hashlib\n",
    "\n",
    "assert hashlib.sha256(str(min_age).encode()).hexdigest() == '4523540f1504cd17100c4835e85b7eefd49911580f8efff0599a8f283be6b9e3'"
   ]
  },
  {
   "cell_type": "code",
   "execution_count": null,
   "metadata": {
    "deletable": false,
    "editable": false,
    "nbgrader": {
     "cell_type": "code",
     "checksum": "a752cba5fabb03c163dba13fd4805e86",
     "grade": true,
     "grade_id": "cell-917d266d045b37ab",
     "locked": true,
     "points": 1,
     "schema_version": 3,
     "solution": false,
     "task": false
    }
   },
   "outputs": [],
   "source": [
    "# проверка, просто запустите ячейку\n"
   ]
  },
  {
   "cell_type": "markdown",
   "metadata": {
    "deletable": false,
    "editable": false,
    "id": "cINy8kq-XAXk",
    "nbgrader": {
     "cell_type": "markdown",
     "checksum": "11c01df5837e2677c45d04c6c1e5302c",
     "grade": false,
     "grade_id": "cell-061c78ddd867cfc9",
     "locked": true,
     "schema_version": 3,
     "solution": false,
     "task": false
    }
   },
   "source": [
    "4. Найдите количество студентов, имеющих нечетное число пропусков."
   ]
  },
  {
   "cell_type": "code",
   "execution_count": null,
   "metadata": {
    "deletable": false,
    "id": "0SPhqD6GXAXl",
    "nbgrader": {
     "cell_type": "code",
     "checksum": "c068fcc3ba20d511e37d8de08a4e3cb8",
     "grade": false,
     "grade_id": "cell-d2f18cc058065b04",
     "locked": false,
     "schema_version": 3,
     "solution": true,
     "task": false
    }
   },
   "outputs": [],
   "source": [
    "stud_odd = ...\n",
    "\n",
    "# your code here\n"
   ]
  },
  {
   "cell_type": "code",
   "execution_count": null,
   "metadata": {
    "deletable": false,
    "editable": false,
    "nbgrader": {
     "cell_type": "code",
     "checksum": "b129f76d77fbe9a15da1de1675b528d9",
     "grade": false,
     "grade_id": "cell-ec2af92d854b7dcc",
     "locked": true,
     "schema_version": 3,
     "solution": false,
     "task": false
    }
   },
   "outputs": [],
   "source": [
    "# Небольшая проверка для себя\n",
    "import hashlib\n",
    "\n",
    "assert hashlib.sha256(str(stud_odd).encode()).hexdigest() == '3d914f9348c9cc0ff8a79716700b9fcd4d2f3e711608004eb8f138bcba7f14d9'"
   ]
  },
  {
   "cell_type": "code",
   "execution_count": null,
   "metadata": {
    "deletable": false,
    "editable": false,
    "nbgrader": {
     "cell_type": "code",
     "checksum": "742c0649a5653c35bddfafbb8a4c0870",
     "grade": true,
     "grade_id": "cell-617da30bf8c4b2a3",
     "locked": true,
     "points": 1,
     "schema_version": 3,
     "solution": false,
     "task": false
    }
   },
   "outputs": [],
   "source": [
    "# проверка, просто запустите ячейку\n"
   ]
  },
  {
   "cell_type": "markdown",
   "metadata": {
    "deletable": false,
    "editable": false,
    "id": "cGd3eKvcXAXo",
    "nbgrader": {
     "cell_type": "markdown",
     "checksum": "b6d92547a7dd950dd064e66210856316",
     "grade": false,
     "grade_id": "cell-d6e3db9e83b853d2",
     "locked": true,
     "schema_version": 3,
     "solution": false,
     "task": false
    }
   },
   "source": [
    "5. Найдите разность между средними итоговыми оценками студентов, состоящих и не состоящих в романтических отношениях. В качестве ответа приведите число, округленное до двух значащих цифр после запятой."
   ]
  },
  {
   "cell_type": "code",
   "execution_count": null,
   "metadata": {
    "deletable": false,
    "nbgrader": {
     "cell_type": "code",
     "checksum": "66baa631ca3577b6d97f766f94ac3948",
     "grade": false,
     "grade_id": "cell-b50961baa50b3e2e",
     "locked": false,
     "schema_version": 3,
     "solution": true,
     "task": false
    }
   },
   "outputs": [],
   "source": [
    "diff_means = ...\n",
    "\n",
    "# your code here\n"
   ]
  },
  {
   "cell_type": "code",
   "execution_count": null,
   "metadata": {
    "deletable": false,
    "editable": false,
    "nbgrader": {
     "cell_type": "code",
     "checksum": "0b4aa17cf5c3671e4b5bd9b678bc6f86",
     "grade": false,
     "grade_id": "cell-9819a6e2333789fe",
     "locked": true,
     "schema_version": 3,
     "solution": false,
     "task": false
    }
   },
   "outputs": [],
   "source": [
    "# Небольшая проверка для себя\n",
    "import hashlib\n",
    "\n",
    "assert hashlib.sha256(str(diff_means).encode()).hexdigest() == 'd6db280fb3549375c84c0758eb2782b129a04a97fca29105bcb0fdadb514aa43'"
   ]
  },
  {
   "cell_type": "code",
   "execution_count": null,
   "metadata": {
    "deletable": false,
    "editable": false,
    "id": "tIrAEaCpXAXp",
    "nbgrader": {
     "cell_type": "code",
     "checksum": "f65869e862654c7b27dffc94d97d1375",
     "grade": true,
     "grade_id": "cell-ea8039a58a0bff75",
     "locked": true,
     "points": 1,
     "schema_version": 3,
     "solution": false,
     "task": false
    }
   },
   "outputs": [],
   "source": [
    "# проверка, просто запустите ячейку\n"
   ]
  },
  {
   "cell_type": "markdown",
   "metadata": {
    "deletable": false,
    "editable": false,
    "id": "m7tyMSA7XAXs",
    "nbgrader": {
     "cell_type": "markdown",
     "checksum": "ef4449141f00f5cbbd63950a5ece52a0",
     "grade": false,
     "grade_id": "cell-4999744e5a6d4110",
     "locked": true,
     "schema_version": 3,
     "solution": false,
     "task": false
    }
   },
   "source": [
    "6. Сколько занятий пропустило большинство студентов с самым частым значением наличия внеклассных активностей?\n",
    "\n",
    "*Примечание. В данном контексте под \"большинством\" подразумеваются студенты, имеющее самое частое значение пропусков. То есть в данном задании необходимо:*\n",
    "\n",
    "\n",
    "* *Определить самое частое значение наличия внеклассных активностей (да или нет).*\n",
    "* *Для группы студентов, соответствующей этому значению, рассмотреть значения признака «число пропусков».*\n",
    "* *Для каждого значения числа пропусков посчитать, сколько студентов ему соответствует.*\n",
    "* *Выбрать значение числа пропусков с наибольшим числом студентов.*\n",
    "\n"
   ]
  },
  {
   "cell_type": "code",
   "execution_count": null,
   "metadata": {
    "deletable": false,
    "id": "-nb9pAmdX4G9",
    "nbgrader": {
     "cell_type": "code",
     "checksum": "8e2c1875bc3affb26731326ebd212227",
     "grade": false,
     "grade_id": "cell-76df4333b4decd8e",
     "locked": false,
     "schema_version": 3,
     "solution": true,
     "task": false
    }
   },
   "outputs": [],
   "source": [
    "answ = ...\n",
    "\n",
    "# your code here\n"
   ]
  },
  {
   "cell_type": "code",
   "execution_count": null,
   "metadata": {
    "deletable": false,
    "editable": false,
    "nbgrader": {
     "cell_type": "code",
     "checksum": "eb6fef212e0ffed91a6cc3f185011039",
     "grade": false,
     "grade_id": "cell-d66794a3bddc0c3c",
     "locked": true,
     "schema_version": 3,
     "solution": false,
     "task": false
    }
   },
   "outputs": [],
   "source": [
    "# Небольшая проверка для себя\n",
    "import hashlib\n",
    "\n",
    "assert hashlib.sha256(str(answ).encode()).hexdigest() == '5feceb66ffc86f38d952786c6d696c79c2dbc239dd4e91b46729d73a27fb57e9'"
   ]
  },
  {
   "cell_type": "code",
   "execution_count": null,
   "metadata": {
    "deletable": false,
    "editable": false,
    "nbgrader": {
     "cell_type": "code",
     "checksum": "6ed21bfec7ed321e3f667550c913013c",
     "grade": true,
     "grade_id": "cell-f25ec77b9b0c0de4",
     "locked": true,
     "points": 1,
     "schema_version": 3,
     "solution": false,
     "task": false
    }
   },
   "outputs": [],
   "source": [
    "# проверка, просто запустите ячейку\n"
   ]
  }
 ],
 "metadata": {
  "colab": {
   "collapsed_sections": [],
   "name": "Неделя1_pandas.ipynb",
   "provenance": []
  },
  "kernelspec": {
   "display_name": "Python 3",
   "language": "python",
   "name": "python3"
  },
  "language_info": {
   "codemirror_mode": {
    "name": "ipython",
    "version": 3
   },
   "file_extension": ".py",
   "mimetype": "text/x-python",
   "name": "python",
   "nbconvert_exporter": "python",
   "pygments_lexer": "ipython3",
   "version": "3.7.6"
  }
 },
 "nbformat": 4,
 "nbformat_minor": 1
}
