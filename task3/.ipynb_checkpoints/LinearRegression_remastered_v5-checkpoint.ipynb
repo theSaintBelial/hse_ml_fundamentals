{
 "cells": [
  {
   "cell_type": "markdown",
   "metadata": {
    "deletable": false,
    "editable": false,
    "nbgrader": {
     "cell_type": "markdown",
     "checksum": "dd75366fc4c4789eb12a7d3dd063fb5f",
     "grade": false,
     "grade_id": "cell-451365cfbc4de388",
     "locked": true,
     "schema_version": 3,
     "solution": false,
     "task": false
    }
   },
   "source": [
    "## Введение\n",
    "\n",
    "Семинарскую часть ноутбука стоит выполнить, а в последующих заданиях пользоваться полученными результатми семинара как стартовой точкой. Семинарская часть заблакирована от изменений. Это сделано для того, чтобы вы случайно не потеряли ее. Однако, при желании, вы можете создавать новые ячейки и вставлять туда код со своими изменениями, чтобы разобраться. Удачи!"
   ]
  },
  {
   "cell_type": "markdown",
   "metadata": {
    "deletable": false,
    "editable": false,
    "nbgrader": {
     "cell_type": "markdown",
     "checksum": "354b932b443e46fa05f78b6d21fb6efa",
     "grade": false,
     "grade_id": "cell-e4ac5791e40d435e",
     "locked": true,
     "schema_version": 3,
     "solution": false,
     "task": false
    }
   },
   "source": [
    "## Семинарская часть"
   ]
  },
  {
   "cell_type": "markdown",
   "metadata": {
    "deletable": false,
    "editable": false,
    "id": "EsonS9rYfD_l",
    "nbgrader": {
     "cell_type": "markdown",
     "checksum": "93096f00089d45a39ef52f193951be74",
     "grade": false,
     "grade_id": "cell-a0b3dde1a3caae33",
     "locked": true,
     "schema_version": 3,
     "solution": false,
     "task": false
    }
   },
   "source": [
    "Сегодня мы будем работать с линейной регрессией в библиотеке sklearn. Воспользуемся классами с различным типом регуляризации и подберем оптимальные гипер-параметры для этих моделей. Решать будем задачу с Kaggle про предсказание длины поездки в такси [New York City Taxi Trip Duration](https://www.kaggle.com/c/nyc-taxi-trip-duration/overview).\n",
    "\n",
    "Данные уже скачаны."
   ]
  },
  {
   "cell_type": "markdown",
   "metadata": {
    "deletable": false,
    "editable": false,
    "id": "RFUP6F8K_kLv",
    "nbgrader": {
     "cell_type": "markdown",
     "checksum": "8c8497f826d685511bcb7df2babc27be",
     "grade": false,
     "grade_id": "cell-44fee195ab6ab1b4",
     "locked": true,
     "schema_version": 3,
     "solution": false,
     "task": false
    }
   },
   "source": [
    "Распакуем данные, которые мы загрузили. Работать будем только с train частью, так как там имеются значения предсказываемой переменной."
   ]
  },
  {
   "cell_type": "code",
   "execution_count": 1,
   "metadata": {
    "deletable": false,
    "editable": false,
    "id": "b1jiU7hKiTUm",
    "nbgrader": {
     "cell_type": "code",
     "checksum": "78924a907dbf36f56c39047edd61f5c4",
     "grade": false,
     "grade_id": "cell-9cc0d5993cd06f5c",
     "locked": true,
     "schema_version": 3,
     "solution": false,
     "task": false
    }
   },
   "outputs": [],
   "source": [
    "import pandas as pd\n",
    "import seaborn as sns\n",
    "from matplotlib import pyplot as plt\n",
    "\n",
    "df = pd.read_csv('train.csv', header=0, sep=',', quotechar='\"')"
   ]
  },
  {
   "cell_type": "code",
   "execution_count": 2,
   "metadata": {
    "colab": {
     "base_uri": "https://localhost:8080/",
     "height": 206
    },
    "deletable": false,
    "editable": false,
    "id": "Dl-adIw4kONn",
    "nbgrader": {
     "cell_type": "code",
     "checksum": "d1546a722fb3e4afe30ac5d53d22a740",
     "grade": false,
     "grade_id": "cell-6c9cf7e0b56f6509",
     "locked": true,
     "schema_version": 3,
     "solution": false,
     "task": false
    },
    "outputId": "58f2af79-ad74-4cbf-cd90-cbe2c0338ce9"
   },
   "outputs": [
    {
     "data": {
      "text/html": [
       "<div>\n",
       "<style scoped>\n",
       "    .dataframe tbody tr th:only-of-type {\n",
       "        vertical-align: middle;\n",
       "    }\n",
       "\n",
       "    .dataframe tbody tr th {\n",
       "        vertical-align: top;\n",
       "    }\n",
       "\n",
       "    .dataframe thead th {\n",
       "        text-align: right;\n",
       "    }\n",
       "</style>\n",
       "<table border=\"1\" class=\"dataframe\">\n",
       "  <thead>\n",
       "    <tr style=\"text-align: right;\">\n",
       "      <th></th>\n",
       "      <th>id</th>\n",
       "      <th>vendor_id</th>\n",
       "      <th>pickup_datetime</th>\n",
       "      <th>dropoff_datetime</th>\n",
       "      <th>passenger_count</th>\n",
       "      <th>pickup_longitude</th>\n",
       "      <th>pickup_latitude</th>\n",
       "      <th>dropoff_longitude</th>\n",
       "      <th>dropoff_latitude</th>\n",
       "      <th>store_and_fwd_flag</th>\n",
       "      <th>trip_duration</th>\n",
       "    </tr>\n",
       "  </thead>\n",
       "  <tbody>\n",
       "    <tr>\n",
       "      <th>0</th>\n",
       "      <td>id2875421</td>\n",
       "      <td>2</td>\n",
       "      <td>2016-03-14 17:24:55</td>\n",
       "      <td>2016-03-14 17:32:30</td>\n",
       "      <td>1</td>\n",
       "      <td>-73.982155</td>\n",
       "      <td>40.767937</td>\n",
       "      <td>-73.964630</td>\n",
       "      <td>40.765602</td>\n",
       "      <td>N</td>\n",
       "      <td>455</td>\n",
       "    </tr>\n",
       "    <tr>\n",
       "      <th>1</th>\n",
       "      <td>id2377394</td>\n",
       "      <td>1</td>\n",
       "      <td>2016-06-12 00:43:35</td>\n",
       "      <td>2016-06-12 00:54:38</td>\n",
       "      <td>1</td>\n",
       "      <td>-73.980415</td>\n",
       "      <td>40.738564</td>\n",
       "      <td>-73.999481</td>\n",
       "      <td>40.731152</td>\n",
       "      <td>N</td>\n",
       "      <td>663</td>\n",
       "    </tr>\n",
       "    <tr>\n",
       "      <th>2</th>\n",
       "      <td>id3858529</td>\n",
       "      <td>2</td>\n",
       "      <td>2016-01-19 11:35:24</td>\n",
       "      <td>2016-01-19 12:10:48</td>\n",
       "      <td>1</td>\n",
       "      <td>-73.979027</td>\n",
       "      <td>40.763939</td>\n",
       "      <td>-74.005333</td>\n",
       "      <td>40.710087</td>\n",
       "      <td>N</td>\n",
       "      <td>2124</td>\n",
       "    </tr>\n",
       "    <tr>\n",
       "      <th>3</th>\n",
       "      <td>id3504673</td>\n",
       "      <td>2</td>\n",
       "      <td>2016-04-06 19:32:31</td>\n",
       "      <td>2016-04-06 19:39:40</td>\n",
       "      <td>1</td>\n",
       "      <td>-74.010040</td>\n",
       "      <td>40.719971</td>\n",
       "      <td>-74.012268</td>\n",
       "      <td>40.706718</td>\n",
       "      <td>N</td>\n",
       "      <td>429</td>\n",
       "    </tr>\n",
       "    <tr>\n",
       "      <th>4</th>\n",
       "      <td>id2181028</td>\n",
       "      <td>2</td>\n",
       "      <td>2016-03-26 13:30:55</td>\n",
       "      <td>2016-03-26 13:38:10</td>\n",
       "      <td>1</td>\n",
       "      <td>-73.973053</td>\n",
       "      <td>40.793209</td>\n",
       "      <td>-73.972923</td>\n",
       "      <td>40.782520</td>\n",
       "      <td>N</td>\n",
       "      <td>435</td>\n",
       "    </tr>\n",
       "  </tbody>\n",
       "</table>\n",
       "</div>"
      ],
      "text/plain": [
       "          id  vendor_id      pickup_datetime     dropoff_datetime  \\\n",
       "0  id2875421          2  2016-03-14 17:24:55  2016-03-14 17:32:30   \n",
       "1  id2377394          1  2016-06-12 00:43:35  2016-06-12 00:54:38   \n",
       "2  id3858529          2  2016-01-19 11:35:24  2016-01-19 12:10:48   \n",
       "3  id3504673          2  2016-04-06 19:32:31  2016-04-06 19:39:40   \n",
       "4  id2181028          2  2016-03-26 13:30:55  2016-03-26 13:38:10   \n",
       "\n",
       "   passenger_count  pickup_longitude  pickup_latitude  dropoff_longitude  \\\n",
       "0                1        -73.982155        40.767937         -73.964630   \n",
       "1                1        -73.980415        40.738564         -73.999481   \n",
       "2                1        -73.979027        40.763939         -74.005333   \n",
       "3                1        -74.010040        40.719971         -74.012268   \n",
       "4                1        -73.973053        40.793209         -73.972923   \n",
       "\n",
       "   dropoff_latitude store_and_fwd_flag  trip_duration  \n",
       "0         40.765602                  N            455  \n",
       "1         40.731152                  N            663  \n",
       "2         40.710087                  N           2124  \n",
       "3         40.706718                  N            429  \n",
       "4         40.782520                  N            435  "
      ]
     },
     "execution_count": 2,
     "metadata": {},
     "output_type": "execute_result"
    }
   ],
   "source": [
    "df.head()"
   ]
  },
  {
   "cell_type": "markdown",
   "metadata": {
    "deletable": false,
    "editable": false,
    "id": "gfj1afXBl0y-",
    "nbgrader": {
     "cell_type": "markdown",
     "checksum": "fa55ac261f8e6f602c98312568dd0450",
     "grade": false,
     "grade_id": "cell-711fa41d7fc74208",
     "locked": true,
     "schema_version": 3,
     "solution": false,
     "task": false
    }
   },
   "source": [
    "Мы видим информацию о каждой поездке. Нам известны координаты, время начала поездки, количество пассажиров и т.д. Удалим колонку, которая есть только в обучающей выборке `dropoff_datetime`. Из названия понятно, что используя эту колонку и `pickup_datetime` мы сможем восстановить длину поездки. Очевидно, что в начале поездки `dropoff_datetime` нам недоступна, а значит и для предсказания ее использовать нельзя."
   ]
  },
  {
   "cell_type": "code",
   "execution_count": null,
   "metadata": {
    "deletable": false,
    "editable": false,
    "id": "3X1R-uB_jE2h",
    "nbgrader": {
     "cell_type": "code",
     "checksum": "46318ea647e040b6d1174d323026f5bb",
     "grade": false,
     "grade_id": "cell-b77b3ac6e86e1ee6",
     "locked": true,
     "schema_version": 3,
     "solution": false,
     "task": false
    }
   },
   "outputs": [],
   "source": [
    "df = df.drop('dropoff_datetime', axis=1)"
   ]
  },
  {
   "cell_type": "markdown",
   "metadata": {
    "deletable": false,
    "editable": false,
    "id": "R9U6zQ0nl5ju",
    "nbgrader": {
     "cell_type": "markdown",
     "checksum": "86f628e90dfe4a491bd852e0f82db388",
     "grade": false,
     "grade_id": "cell-05f8f720aa507f68",
     "locked": true,
     "schema_version": 3,
     "solution": false,
     "task": false
    }
   },
   "source": [
    "Сейчас даты записаны в виде строк. Давайте преобразуем их в питонячие datetime объекты. Таким образом мы сможем выполнять арифметические операции с датами и вытаскивать нужную информацию, не работая со строками."
   ]
  },
  {
   "cell_type": "code",
   "execution_count": null,
   "metadata": {
    "deletable": false,
    "editable": false,
    "id": "7RmJ9B5kjJgJ",
    "nbgrader": {
     "cell_type": "code",
     "checksum": "173291f174f70b8956f8a7fde355c31a",
     "grade": false,
     "grade_id": "cell-fa5ef8b5c7e9f08c",
     "locked": true,
     "schema_version": 3,
     "solution": false,
     "task": false
    }
   },
   "outputs": [],
   "source": [
    "df.pickup_datetime = pd.to_datetime(df.pickup_datetime)"
   ]
  },
  {
   "cell_type": "markdown",
   "metadata": {
    "deletable": false,
    "editable": false,
    "id": "NerTyfJWl9w4",
    "nbgrader": {
     "cell_type": "markdown",
     "checksum": "97efd9ed34f77510331186ff39eebd68",
     "grade": false,
     "grade_id": "cell-f7de6bae6ee294bc",
     "locked": true,
     "schema_version": 3,
     "solution": false,
     "task": false
    }
   },
   "source": [
    "Давайте разобьем выборку на train и test. Применить функцию `train_test_split` в этот раз не получиться. Мы теперь имеем дело с временными данными и на практике наша модель должна уметь работать во временных периодах, которых нет в обучающей выборке. Поэтому разбивать мы будем датасет по хронологии. Для этого отсортируем датасет по дате и возьмем первые N строк."
   ]
  },
  {
   "cell_type": "code",
   "execution_count": null,
   "metadata": {
    "deletable": false,
    "editable": false,
    "id": "E4PGcOF4kjHh",
    "nbgrader": {
     "cell_type": "code",
     "checksum": "8a1ee0db87542cd93e3947cd1d11bc68",
     "grade": false,
     "grade_id": "cell-7e2af36ce3ea3a4a",
     "locked": true,
     "schema_version": 3,
     "solution": false,
     "task": false
    }
   },
   "outputs": [],
   "source": [
    "df = df.sort_values(by='pickup_datetime')"
   ]
  },
  {
   "cell_type": "code",
   "execution_count": null,
   "metadata": {
    "colab": {
     "base_uri": "https://localhost:8080/",
     "height": 206
    },
    "deletable": false,
    "editable": false,
    "id": "LbnQNS502lXy",
    "nbgrader": {
     "cell_type": "code",
     "checksum": "6606928ab61e94a5b88d1c386f56f9dc",
     "grade": false,
     "grade_id": "cell-90b612c033e3e0fb",
     "locked": true,
     "schema_version": 3,
     "solution": false,
     "task": false
    },
    "outputId": "d8ce52ee-d452-4253-9c20-58e730618b72"
   },
   "outputs": [],
   "source": [
    "df.head()"
   ]
  },
  {
   "cell_type": "code",
   "execution_count": null,
   "metadata": {
    "deletable": false,
    "editable": false,
    "id": "Qzhbddk_2nnt",
    "nbgrader": {
     "cell_type": "code",
     "checksum": "b39558dbc32cf0863f104b932bbc2d76",
     "grade": false,
     "grade_id": "cell-055a1b07c17a6cad",
     "locked": true,
     "schema_version": 3,
     "solution": false,
     "task": false
    }
   },
   "outputs": [],
   "source": [
    "df_train = df[:700_000]\n",
    "df_test = df[700_000:900_000]"
   ]
  },
  {
   "cell_type": "markdown",
   "metadata": {
    "deletable": false,
    "editable": false,
    "id": "jGh5vdplm3P9",
    "nbgrader": {
     "cell_type": "markdown",
     "checksum": "91f020ece32e1019ea1cf326a9c714c7",
     "grade": false,
     "grade_id": "cell-1ed679058e987fdd",
     "locked": true,
     "schema_version": 3,
     "solution": false,
     "task": false
    }
   },
   "source": [
    "Напомню, что мы будем пресказывать переменную trip_duration. Посмотрим на целевую переменную."
   ]
  },
  {
   "cell_type": "code",
   "execution_count": null,
   "metadata": {
    "colab": {
     "base_uri": "https://localhost:8080/",
     "height": 284
    },
    "deletable": false,
    "editable": false,
    "id": "aSL_26dbm053",
    "nbgrader": {
     "cell_type": "code",
     "checksum": "002d001312014bcac217daf60be2c00c",
     "grade": false,
     "grade_id": "cell-659d079606b49f22",
     "locked": true,
     "schema_version": 3,
     "solution": false,
     "task": false
    },
    "outputId": "e5542f19-8ece-4815-bdf4-6031add02745"
   },
   "outputs": [],
   "source": [
    "df_train.trip_duration.hist(bins=100, grid=False, )"
   ]
  },
  {
   "cell_type": "markdown",
   "metadata": {
    "deletable": false,
    "editable": false,
    "id": "56ZsuT-dnhB6",
    "nbgrader": {
     "cell_type": "markdown",
     "checksum": "846cb0a9b0a68c9f12cc45a3076cb49b",
     "grade": false,
     "grade_id": "cell-8aa3e5d60115ea5e",
     "locked": true,
     "schema_version": 3,
     "solution": false,
     "task": false
    }
   },
   "source": [
    "Что то пошло не так. Вероятно, есть очень длинные поездки и короткие. Попробуем взять `log(1 + x)` от длины поездки. Единицу мы прибавляем, чтобы избежать проблем с поездками, которые например мнгновенно завершились. "
   ]
  },
  {
   "cell_type": "code",
   "execution_count": null,
   "metadata": {
    "colab": {
     "base_uri": "https://localhost:8080/",
     "height": 284
    },
    "deletable": false,
    "editable": false,
    "id": "zhGXOWYGmjxS",
    "nbgrader": {
     "cell_type": "code",
     "checksum": "3498059c50cf8369d0c78ef5a1a00970",
     "grade": false,
     "grade_id": "cell-e3e4a77dff661dea",
     "locked": true,
     "schema_version": 3,
     "solution": false,
     "task": false
    },
    "outputId": "c3e34c03-74f1-4267-c5ef-0c841fbd6f0d"
   },
   "outputs": [],
   "source": [
    "import numpy as np\n",
    "np.log1p(df_train.trip_duration).hist(bins=100, grid=False, )"
   ]
  },
  {
   "cell_type": "markdown",
   "metadata": {
    "deletable": false,
    "editable": false,
    "id": "CITyr98_weNh",
    "nbgrader": {
     "cell_type": "markdown",
     "checksum": "f707ac74ba23933f6991bffc36814121",
     "grade": false,
     "grade_id": "cell-2f63cc9f38cde6c1",
     "locked": true,
     "schema_version": 3,
     "solution": false,
     "task": false
    }
   },
   "source": [
    "Мы получили куда более ясную картину, распределение стало похоже на нормальное. Работать будем теперь с логарифмом. Так линейной регрессии будет куда проще выучить корректную зависимость. А если захотим вернуться к исходным данным, возведем предсказание в экспоненту."
   ]
  },
  {
   "cell_type": "code",
   "execution_count": null,
   "metadata": {
    "colab": {
     "base_uri": "https://localhost:8080/",
     "height": 247
    },
    "deletable": false,
    "editable": false,
    "id": "XdDc4PQUnPaI",
    "nbgrader": {
     "cell_type": "code",
     "checksum": "6df0c419cfb012284f9a123d00756075",
     "grade": false,
     "grade_id": "cell-31a132559b8e76de",
     "locked": true,
     "schema_version": 3,
     "solution": false,
     "task": false
    },
    "outputId": "d516b7b8-aa4e-419f-fa6f-2cacc3fa9e39"
   },
   "outputs": [],
   "source": [
    "df_train['log_trip_duration'] = np.log1p(df_train.trip_duration)\n",
    "df_test['log_trip_duration'] = np.log1p(df_test.trip_duration)"
   ]
  },
  {
   "cell_type": "code",
   "execution_count": null,
   "metadata": {
    "deletable": false,
    "editable": false,
    "id": "2nEREh5dsC20",
    "nbgrader": {
     "cell_type": "code",
     "checksum": "4a2a893284dda7dc8544020229d560d9",
     "grade": false,
     "grade_id": "cell-65f515232311e041",
     "locked": true,
     "schema_version": 3,
     "solution": false,
     "task": false
    }
   },
   "outputs": [],
   "source": [
    "df.pickup_datetime = pd.to_datetime(df.pickup_datetime)"
   ]
  },
  {
   "cell_type": "markdown",
   "metadata": {
    "deletable": false,
    "editable": false,
    "id": "ELugKcXGoRFT",
    "nbgrader": {
     "cell_type": "markdown",
     "checksum": "42ad726aa6cfe6ea3c6448665e827b4f",
     "grade": false,
     "grade_id": "cell-ab2b448af705f0c7",
     "locked": true,
     "schema_version": 3,
     "solution": false,
     "task": false
    }
   },
   "source": [
    "Посмотрим на наши признаки. Давайте нарисуем, как выглядит распределение количества поездок по дням."
   ]
  },
  {
   "cell_type": "code",
   "execution_count": null,
   "metadata": {
    "colab": {
     "base_uri": "https://localhost:8080/",
     "height": 383
    },
    "deletable": false,
    "editable": false,
    "id": "TBjQxEKLoywT",
    "nbgrader": {
     "cell_type": "code",
     "checksum": "5c3c8d3cad561d07ccf0979297e47f1e",
     "grade": false,
     "grade_id": "cell-cbed508ca36d3ad8",
     "locked": true,
     "schema_version": 3,
     "solution": false,
     "task": false
    },
    "outputId": "44882350-9340-4646-9660-cd1de6c36fe7"
   },
   "outputs": [],
   "source": [
    "date_sorted = df_train.pickup_datetime.dt.date.sort_values()\n",
    "\n",
    "plt.figure(figsize=(25, 5))\n",
    "date_count_plot = sns.countplot(\n",
    "  x=date_sorted,\n",
    ")\n",
    "date_count_plot.set_xticklabels(date_count_plot.get_xticklabels(), rotation=90);"
   ]
  },
  {
   "cell_type": "markdown",
   "metadata": {
    "deletable": false,
    "editable": false,
    "id": "RjjpG_w7xMwC",
    "nbgrader": {
     "cell_type": "markdown",
     "checksum": "6ae6a110f155c42723f6bf223b6176d5",
     "grade": false,
     "grade_id": "cell-8b8dc31f551e0fce",
     "locked": true,
     "schema_version": 3,
     "solution": false,
     "task": false
    }
   },
   "source": [
    "Мы можем увидеть паттерны, которые повторяются каждую неделю. Также мы можем наблюдать несколько аномальных правалов в количестве поездок. Посмотрим, как выглядит распределение по часам."
   ]
  },
  {
   "cell_type": "code",
   "execution_count": null,
   "metadata": {
    "colab": {
     "base_uri": "https://localhost:8080/",
     "height": 299
    },
    "deletable": false,
    "editable": false,
    "id": "YuwD_kpgqCzX",
    "nbgrader": {
     "cell_type": "code",
     "checksum": "d414c9748d64d39046a6c32f1891e2f6",
     "grade": false,
     "grade_id": "cell-985bbcded7f0b638",
     "locked": true,
     "schema_version": 3,
     "solution": false,
     "task": false
    },
    "outputId": "6debaf33-4cbb-40f6-dbef-c8fc15ff22db"
   },
   "outputs": [],
   "source": [
    "sns.countplot(\n",
    "  df_train.pickup_datetime.apply(lambda x: x.hour),\n",
    ")"
   ]
  },
  {
   "cell_type": "markdown",
   "metadata": {
    "deletable": false,
    "editable": false,
    "id": "EHyKa6Jmx1ZV",
    "nbgrader": {
     "cell_type": "markdown",
     "checksum": "a425871d99d643f96faabb8a843997bb",
     "grade": false,
     "grade_id": "cell-ec0aa21229d95b37",
     "locked": true,
     "schema_version": 3,
     "solution": false,
     "task": false
    }
   },
   "source": [
    "Теперь давайте посмотрим, как связан день и длина поездки."
   ]
  },
  {
   "cell_type": "code",
   "execution_count": null,
   "metadata": {
    "colab": {
     "base_uri": "https://localhost:8080/",
     "height": 504
    },
    "deletable": false,
    "editable": false,
    "id": "0sORx23Ex-nH",
    "nbgrader": {
     "cell_type": "code",
     "checksum": "e5877c64610e78b31dac6ad725c535d5",
     "grade": false,
     "grade_id": "cell-94743b5e1184a27c",
     "locked": true,
     "schema_version": 3,
     "solution": false,
     "task": false
    },
    "outputId": "956b9d70-7f99-4d94-bf8e-405626a1f175"
   },
   "outputs": [],
   "source": [
    "group_by_weekday = df_train.groupby(df_train.pickup_datetime.dt.date)\n",
    "sns.relplot(data=group_by_weekday.log_trip_duration.aggregate('mean'), kind='line');"
   ]
  },
  {
   "cell_type": "markdown",
   "metadata": {
    "deletable": false,
    "editable": false,
    "id": "h6Ir1nIN3B_e",
    "nbgrader": {
     "cell_type": "markdown",
     "checksum": "237f600f6fe40e047063b22f390f85dd",
     "grade": false,
     "grade_id": "cell-3ebbe1afbc1f2cca",
     "locked": true,
     "schema_version": 3,
     "solution": false,
     "task": false
    }
   },
   "source": [
    "Мы видим явный тренд. Более того, наблюдается такая вещь как сезонность: повторяющиеся временные паттерны. В нашем случае период равен неделе."
   ]
  },
  {
   "cell_type": "markdown",
   "metadata": {
    "deletable": false,
    "editable": false,
    "id": "NsIqgRCu3EDe",
    "nbgrader": {
     "cell_type": "markdown",
     "checksum": "4a6535753169b85ef3923bd7e1185a04",
     "grade": false,
     "grade_id": "cell-e6d83f0a13c42168",
     "locked": true,
     "schema_version": 3,
     "solution": false,
     "task": false
    }
   },
   "source": [
    "Теперь подготовим датасет. Включим в него день года и час дня. Для этого напишем функцию `create_features`, которая будет собирать нам нужные признаки в отдельный `pandas.DataFrame`. В итоге, мы сможем воспользоваться этой функцией, как для train подвыборки, так и для test."
   ]
  },
  {
   "cell_type": "code",
   "execution_count": null,
   "metadata": {
    "deletable": false,
    "editable": false,
    "id": "FRZNQw5jyyZN",
    "nbgrader": {
     "cell_type": "code",
     "checksum": "18bc333788867b3fb58792655ade8531",
     "grade": false,
     "grade_id": "cell-9a3315df83dbc2e1",
     "locked": true,
     "schema_version": 3,
     "solution": false,
     "task": false
    }
   },
   "outputs": [],
   "source": [
    "import datetime\n",
    "def create_features(data_frame):\n",
    "    X = pd.concat([\n",
    "      data_frame.pickup_datetime.apply(lambda x: x.timetuple().tm_yday),\n",
    "      data_frame.pickup_datetime.apply(lambda x: x.hour),\n",
    "     ], axis=1, keys=['day', 'hour',]\n",
    "    )\n",
    "  \n",
    "    return X, data_frame.log_trip_duration"
   ]
  },
  {
   "cell_type": "code",
   "execution_count": null,
   "metadata": {
    "deletable": false,
    "editable": false,
    "id": "ZGbjX11l3zwl",
    "nbgrader": {
     "cell_type": "code",
     "checksum": "4ddbe8c0fb417bba0b97ea2c01a6739a",
     "grade": false,
     "grade_id": "cell-58300b9a7e77c978",
     "locked": true,
     "schema_version": 3,
     "solution": false,
     "task": false
    }
   },
   "outputs": [],
   "source": [
    "X_train, y_train = create_features(df_train)"
   ]
  },
  {
   "cell_type": "code",
   "execution_count": null,
   "metadata": {
    "deletable": false,
    "editable": false,
    "nbgrader": {
     "cell_type": "code",
     "checksum": "3a558d09e5123d3c1a8055a259d897ef",
     "grade": false,
     "grade_id": "cell-6a259df6d009d7bf",
     "locked": true,
     "schema_version": 3,
     "solution": false,
     "task": false
    }
   },
   "outputs": [],
   "source": [
    "X_test, y_test = create_features(df_test)"
   ]
  },
  {
   "cell_type": "code",
   "execution_count": null,
   "metadata": {
    "colab": {
     "base_uri": "https://localhost:8080/",
     "height": 206
    },
    "deletable": false,
    "editable": false,
    "id": "A7p_3ov-5Wx1",
    "nbgrader": {
     "cell_type": "code",
     "checksum": "831db3223f575c41436638e85b977c7e",
     "grade": false,
     "grade_id": "cell-32b8eb449c32d091",
     "locked": true,
     "schema_version": 3,
     "solution": false,
     "task": false
    },
    "outputId": "42786da4-0551-4466-e445-9579f7ac7f0c"
   },
   "outputs": [],
   "source": [
    "X_train.head()"
   ]
  },
  {
   "cell_type": "markdown",
   "metadata": {
    "deletable": false,
    "editable": false,
    "id": "Cc7tOlmM293O",
    "nbgrader": {
     "cell_type": "markdown",
     "checksum": "9e51c1994bdcc47fd43c414d5a20deb7",
     "grade": false,
     "grade_id": "cell-febd302acef1806f",
     "locked": true,
     "schema_version": 3,
     "solution": false,
     "task": false
    }
   },
   "source": [
    "Переменная час, хоть и является целым числом, не может трактоваться как вещественная. Дело в том, что после 23 идет 0, и что будет означать коэффициент регрессии в таком случае, совсем не ясно. Поэтому применим к этой переменной one -hot кодирование. В тоже время, переменная день должна остаться вещественной, так как значения из обучающей выборке не встреться нам на тестовом подмножестве."
   ]
  },
  {
   "cell_type": "code",
   "execution_count": null,
   "metadata": {
    "deletable": false,
    "editable": false,
    "id": "XIZockBO84_e",
    "nbgrader": {
     "cell_type": "code",
     "checksum": "657ab6f9f0455c5a5502c16ea50271f7",
     "grade": false,
     "grade_id": "cell-1d304fda9b63049c",
     "locked": true,
     "schema_version": 3,
     "solution": false,
     "task": false
    }
   },
   "outputs": [],
   "source": [
    "from sklearn.preprocessing import OneHotEncoder\n",
    "from sklearn.compose import ColumnTransformer "
   ]
  },
  {
   "cell_type": "code",
   "execution_count": null,
   "metadata": {
    "deletable": false,
    "editable": false,
    "id": "k6C91eF_9Dk6",
    "nbgrader": {
     "cell_type": "code",
     "checksum": "7677b63f0d73d34d3f64942fbf0fc0b6",
     "grade": false,
     "grade_id": "cell-dce19ea2ddfc81b8",
     "locked": true,
     "schema_version": 3,
     "solution": false,
     "task": false
    }
   },
   "outputs": [],
   "source": [
    "ohe = ColumnTransformer([(\"One hot\", OneHotEncoder(sparse=False),[1])], remainder=\"passthrough\")"
   ]
  },
  {
   "cell_type": "code",
   "execution_count": null,
   "metadata": {
    "deletable": false,
    "editable": false,
    "id": "t-6JkRQh9TG5",
    "nbgrader": {
     "cell_type": "code",
     "checksum": "3a6e5d7853b4fcf89ca820e4e3470d21",
     "grade": false,
     "grade_id": "cell-d324a4c4988057a1",
     "locked": true,
     "schema_version": 3,
     "solution": false,
     "task": false
    }
   },
   "outputs": [],
   "source": [
    "X_train = ohe.fit_transform(X_train)"
   ]
  },
  {
   "cell_type": "code",
   "execution_count": null,
   "metadata": {
    "deletable": false,
    "editable": false,
    "nbgrader": {
     "cell_type": "code",
     "checksum": "aa6933c095332bb5bb610288b1659eea",
     "grade": false,
     "grade_id": "cell-ab88a6071c359832",
     "locked": true,
     "schema_version": 3,
     "solution": false,
     "task": false
    }
   },
   "outputs": [],
   "source": [
    "X_test = ohe.transform(X_test)"
   ]
  },
  {
   "cell_type": "markdown",
   "metadata": {
    "deletable": false,
    "editable": false,
    "id": "LsKBfV5R5bal",
    "nbgrader": {
     "cell_type": "markdown",
     "checksum": "3a921f641158b17fca329e5be5673c40",
     "grade": false,
     "grade_id": "cell-494987f721812720",
     "locked": true,
     "schema_version": 3,
     "solution": false,
     "task": false
    }
   },
   "source": [
    "Воспользуемся классом `Ridge` и обучим модель."
   ]
  },
  {
   "cell_type": "code",
   "execution_count": null,
   "metadata": {
    "deletable": false,
    "editable": false,
    "id": "bveATviV_VYj",
    "nbgrader": {
     "cell_type": "code",
     "checksum": "6ed925cda52d001ce2a3931559f229da",
     "grade": false,
     "grade_id": "cell-4a7818f390d2e47d",
     "locked": true,
     "schema_version": 3,
     "solution": false,
     "task": false
    }
   },
   "outputs": [],
   "source": [
    "from sklearn.linear_model import Ridge\n",
    "from sklearn.metrics import mean_squared_error"
   ]
  },
  {
   "cell_type": "code",
   "execution_count": null,
   "metadata": {
    "deletable": false,
    "editable": false,
    "id": "jzFjG0M0F6ji",
    "nbgrader": {
     "cell_type": "code",
     "checksum": "9f407834a08407da63d4f37b3bdc90b5",
     "grade": false,
     "grade_id": "cell-f8cd49d86390389c",
     "locked": true,
     "schema_version": 3,
     "solution": false,
     "task": false
    }
   },
   "outputs": [],
   "source": [
    "ridge = Ridge(alpha=1000).fit(X_train, y_train)"
   ]
  },
  {
   "cell_type": "code",
   "execution_count": null,
   "metadata": {
    "colab": {
     "base_uri": "https://localhost:8080/",
     "height": 36
    },
    "deletable": false,
    "editable": false,
    "id": "xYEjJt5YGBnh",
    "nbgrader": {
     "cell_type": "code",
     "checksum": "111e077476bb17c8bdc72610c5606276",
     "grade": false,
     "grade_id": "cell-8cdd3bb525140f9e",
     "locked": true,
     "schema_version": 3,
     "solution": false,
     "task": false
    },
    "outputId": "0872f439-aa17-4b5e-cafd-df73469410a3"
   },
   "outputs": [],
   "source": [
    "mean_squared_error(ridge.predict(X_test), y_test)"
   ]
  },
  {
   "cell_type": "markdown",
   "metadata": {
    "deletable": false,
    "editable": false,
    "id": "jjtPvTRX5h8w",
    "nbgrader": {
     "cell_type": "markdown",
     "checksum": "2317d8a82f240755e1fd5246af0678dd",
     "grade": false,
     "grade_id": "cell-7ca6a3cd57530deb",
     "locked": true,
     "schema_version": 3,
     "solution": false,
     "task": false
    }
   },
   "source": [
    "Давайте попробуем сделать лучше и подберем гиперпараметры модели."
   ]
  },
  {
   "cell_type": "code",
   "execution_count": null,
   "metadata": {
    "deletable": false,
    "editable": false,
    "id": "QSftI2qPI8U6",
    "nbgrader": {
     "cell_type": "code",
     "checksum": "1d8e52c6dedeb2a465edd84335ec01b2",
     "grade": false,
     "grade_id": "cell-f04300e9c04b33ce",
     "locked": true,
     "schema_version": 3,
     "solution": false,
     "task": false
    }
   },
   "outputs": [],
   "source": [
    "from sklearn.model_selection import GridSearchCV\n",
    "\n",
    "# Здесь немного изменены параметры, чтобы ячейка не выполнялась слишком долго\n",
    "grid_searcher = GridSearchCV(Ridge(),\n",
    "                             param_grid={'alpha': np.linspace(100, 750, 5)},\n",
    "                             cv=3).fit(X_train, y_train)"
   ]
  },
  {
   "cell_type": "code",
   "execution_count": null,
   "metadata": {
    "colab": {
     "base_uri": "https://localhost:8080/",
     "height": 36
    },
    "deletable": false,
    "editable": false,
    "id": "wZojalcgKgZh",
    "nbgrader": {
     "cell_type": "code",
     "checksum": "4e59715ac9f12f7194de208f1f59ff15",
     "grade": false,
     "grade_id": "cell-27130a8632de7f92",
     "locked": true,
     "schema_version": 3,
     "solution": false,
     "task": false
    },
    "outputId": "9274597c-3e96-4536-8759-b450ae81ee34"
   },
   "outputs": [],
   "source": [
    "mean_squared_error(grid_searcher.predict(X_test), y_test)"
   ]
  },
  {
   "cell_type": "code",
   "execution_count": null,
   "metadata": {
    "colab": {
     "base_uri": "https://localhost:8080/",
     "height": 36
    },
    "deletable": false,
    "editable": false,
    "id": "rf9m8dQkKmKD",
    "nbgrader": {
     "cell_type": "code",
     "checksum": "a7464b9f8b83402823281bc944afc746",
     "grade": false,
     "grade_id": "cell-a9d25e02a55031b0",
     "locked": true,
     "schema_version": 3,
     "solution": false,
     "task": false
    },
    "outputId": "cbfbb844-8404-4765-fe76-80a113833615"
   },
   "outputs": [],
   "source": [
    "grid_searcher.best_params_"
   ]
  },
  {
   "cell_type": "markdown",
   "metadata": {
    "deletable": false,
    "editable": false,
    "nbgrader": {
     "cell_type": "markdown",
     "checksum": "fddcbecc2b86f1793bbbaceffe298c29",
     "grade": false,
     "grade_id": "cell-cf0bd76ec30e499b",
     "locked": true,
     "schema_version": 3,
     "solution": false,
     "task": false
    }
   },
   "source": [
    "## Часть для самостоятельного выполнения:"
   ]
  },
  {
   "cell_type": "markdown",
   "metadata": {
    "deletable": false,
    "editable": false,
    "id": "3FEX2OFZ9kS8",
    "nbgrader": {
     "cell_type": "markdown",
     "checksum": "fbefa928323db4ba591fdaaa5fa8bfe3",
     "grade": false,
     "grade_id": "cell-d442dcde53116d8e",
     "locked": true,
     "schema_version": 3,
     "solution": false,
     "task": false
    }
   },
   "source": [
    "### Задание 1\n",
    "Постройте график соответствующий количеству поездок в зависимости от дня недели по обучающей выборке. Какой из этих графиков соответствует правильному?\n"
   ]
  },
  {
   "attachments": {
    "1.jpg": {
     "image/jpeg": "[encoded data removed]"
    }
   },
   "cell_type": "markdown",
   "metadata": {
    "deletable": false,
    "editable": false,
    "nbgrader": {
     "cell_type": "markdown",
     "checksum": "d6d4aa100b11a1c3e1764019500c3a10",
     "grade": false,
     "grade_id": "cell-16c99e022f2bd355",
     "locked": true,
     "schema_version": 3,
     "solution": false,
     "task": false
    }
   },
   "source": [
    "1)\n",
    "![1.jpg](attachment:1.jpg)"
   ]
  },
  {
   "attachments": {
    "2.jpg": {
     "image/jpeg": "[encoded data removed]"
    }
   },
   "cell_type": "markdown",
   "metadata": {
    "deletable": false,
    "editable": false,
    "nbgrader": {
     "cell_type": "markdown",
     "checksum": "87ef466666ba07f0adf2a62ca0f55509",
     "grade": false,
     "grade_id": "cell-7674ece0ae204a16",
     "locked": true,
     "schema_version": 3,
     "solution": false,
     "task": false
    }
   },
   "source": [
    "2)\n",
    "![2.jpg](attachment:2.jpg)"
   ]
  },
  {
   "attachments": {
    "3.jpg": {
     "image/jpeg": "[encoded data removed]"
    }
   },
   "cell_type": "markdown",
   "metadata": {
    "deletable": false,
    "editable": false,
    "nbgrader": {
     "cell_type": "markdown",
     "checksum": "89925ffd74215e22c86b06bdf066f244",
     "grade": false,
     "grade_id": "cell-92fa0e85634a3c16",
     "locked": true,
     "schema_version": 3,
     "solution": false,
     "task": false
    }
   },
   "source": [
    "3)\n",
    "![3.jpg](attachment:3.jpg)"
   ]
  },
  {
   "cell_type": "code",
   "execution_count": null,
   "metadata": {
    "deletable": false,
    "nbgrader": {
     "cell_type": "code",
     "checksum": "6fbcc4a02e34d52e1d49848c37d1ef7c",
     "grade": false,
     "grade_id": "cell-3c2fe1b86d860682",
     "locked": false,
     "schema_version": 3,
     "solution": true,
     "task": false
    }
   },
   "outputs": [],
   "source": [
    "correct_graph = ...\n",
    "\n",
    "# your code here\n"
   ]
  },
  {
   "cell_type": "code",
   "execution_count": null,
   "metadata": {
    "deletable": false,
    "editable": false,
    "nbgrader": {
     "cell_type": "code",
     "checksum": "882f3d54675e6c36748899f3f32451e7",
     "grade": true,
     "grade_id": "cell-5e3f0b4910b75afd",
     "locked": true,
     "points": 1,
     "schema_version": 3,
     "solution": false,
     "task": false
    }
   },
   "outputs": [],
   "source": [
    "# проверка, просто запустите ячейку\n"
   ]
  },
  {
   "cell_type": "markdown",
   "metadata": {
    "deletable": false,
    "editable": false,
    "id": "r64ZH4jTD4W1",
    "nbgrader": {
     "cell_type": "markdown",
     "checksum": "af82cb8c17c114e2b6914bfebc447d32",
     "grade": false,
     "grade_id": "cell-7a0e1e8156961b56",
     "locked": true,
     "schema_version": 3,
     "solution": false,
     "task": false
    }
   },
   "source": [
    "### Задание 2\n",
    "\n",
    "Добавьте к признакам one-hot переменную, которая равна 1 (или True) для двух аномальных дней и 0 (или False) во все остальные дни.\n",
    "Для этого вам понадобиться модифицировать функцию create_features. \n",
    "\n",
    "Рекоммендуется создавать новые датафреймы из стартовых для домашнего задания (то есть df_train и df_test). На выходе из функции вы должны получить dataframe с 3 признаками: ```day```, ```hour``` и ```anomaly```. Подсказка: сделать это можно всего за 3 применения .apply(). Иначе ваша функция может работать слишком долго."
   ]
  },
  {
   "cell_type": "code",
   "execution_count": null,
   "metadata": {
    "deletable": false,
    "nbgrader": {
     "cell_type": "code",
     "checksum": "81cb5fea92e77b058693de0391dfad87",
     "grade": false,
     "grade_id": "cell-93aa2e6ce8bc7444",
     "locked": false,
     "schema_version": 3,
     "solution": true,
     "task": false
    }
   },
   "outputs": [],
   "source": [
    "def create_features(data_frame):\n",
    "    # your code\n",
    "    return [], []\n",
    "    \n",
    "    \n",
    "# your code here\n"
   ]
  },
  {
   "cell_type": "code",
   "execution_count": null,
   "metadata": {},
   "outputs": [],
   "source": [
    "# %time измерит время выполнения вашей фукнции:\n",
    "\n",
    "%time new_X_train, new_y_train = create_features(df_train)"
   ]
  },
  {
   "cell_type": "markdown",
   "metadata": {
    "deletable": false,
    "editable": false,
    "nbgrader": {
     "cell_type": "markdown",
     "checksum": "d34bbc6c63e18e44520eb05754b79eda",
     "grade": false,
     "grade_id": "cell-b8e0f94d7a7ed0e0",
     "locked": true,
     "schema_version": 3,
     "solution": false,
     "task": false
    }
   },
   "source": [
    "Обратите внимание: для успешной сдачи, wall time должен быть < 30 секунд."
   ]
  },
  {
   "cell_type": "markdown",
   "metadata": {
    "deletable": false,
    "editable": false,
    "nbgrader": {
     "cell_type": "markdown",
     "checksum": "a11e53abfe85bd7f86aedaff7000644e",
     "grade": false,
     "grade_id": "cell-d3b0f965e13c94c1",
     "locked": true,
     "schema_version": 3,
     "solution": false,
     "task": false
    }
   },
   "source": [
    "Далее идет небольшая неоцениваемая проверка. Понимать код написанный там не нужно. Просто запустите ячейку. Если она запускается без ошибок - можете продолжать, иначе - следуйте в соответствии с выданной ошибкой."
   ]
  },
  {
   "cell_type": "code",
   "execution_count": null,
   "metadata": {
    "deletable": false,
    "editable": false,
    "nbgrader": {
     "cell_type": "code",
     "checksum": "fb5e95aa53da74334848bd8a39068e41",
     "grade": false,
     "grade_id": "cell-a186c39416128f6e",
     "locked": true,
     "schema_version": 3,
     "solution": false,
     "task": false
    }
   },
   "outputs": [],
   "source": [
    "# Небольшая проверка: если ячейка выполнилась без ошибок, можете продолжать.\n",
    "\n",
    "assert 'new_X_train' in locals(), \"Переменной new_X_train не существует. Проверьте названия.\"\n",
    "assert 'new_y_train' in locals(), \"Переменной new_y_train не существует. Проверьте названия.\"\n",
    "assert type(new_X_train) == pd.core.frame.DataFrame, \\\n",
    "                            \"Переменная new_X_train должна быть типа pandas DataFrame\"\n",
    "assert len(new_X_train) == 700_000, \"Количество примеров должно остаться равным 700 000\"\n",
    "assert all(new_X_train.columns.values == ['day', 'hour', 'anomaly']), \\\n",
    "                            \"Проверьте количество и названия колонок\"\n",
    "assert all(new_X_train[new_X_train['day'] == 24]['anomaly'] == True), \\\n",
    "                            \"Значение признака anomaly для сэмплов 24.01 должно равняться True или 1\"\n",
    "assert any(new_X_train[(new_X_train['day'] != 23) & (new_X_train['day'] != 24)]['anomaly']) == False, \\\n",
    "                            \"Значение признака anomaly для сэмплов не 23.01 и 24.01 должно равняться False или 0\""
   ]
  },
  {
   "cell_type": "code",
   "execution_count": null,
   "metadata": {},
   "outputs": [],
   "source": [
    "# Если предыдущая ячейка не выдала ошибок, можно смело выполнять для теста:\n",
    "\n",
    "new_X_test, new_y_test = create_features(df_test)"
   ]
  },
  {
   "cell_type": "code",
   "execution_count": null,
   "metadata": {
    "deletable": false,
    "editable": false,
    "nbgrader": {
     "cell_type": "code",
     "checksum": "2527a229fcd89b73214e33e57d490144",
     "grade": true,
     "grade_id": "cell-d6f1d8c67eb2e53a",
     "locked": true,
     "points": 1,
     "schema_version": 3,
     "solution": false,
     "task": false
    }
   },
   "outputs": [],
   "source": [
    "# А теперь полноценная проверка переменных new_X_train, new_X_test\n",
    "# Просто запустите ячейку\n"
   ]
  },
  {
   "cell_type": "markdown",
   "metadata": {
    "deletable": false,
    "editable": false,
    "id": "lp4fhXBY_cr5",
    "nbgrader": {
     "cell_type": "markdown",
     "checksum": "4092acbd99ebeb8e525c8d5492729eb2",
     "grade": false,
     "grade_id": "cell-7d06da3f2b50e173",
     "locked": true,
     "schema_version": 3,
     "solution": false,
     "task": false
    }
   },
   "source": [
    "# Задание 3\n",
    "1. Добавьте день недели в качестве признака для обучения. Удобнее всего - модифицировать функцию create_features.  Рекомендуется создавать новые датафреймы из стартовых для домашнего задания (то есть df_train и df_test). Соответственно, у вас должен добавиться один вызов .apply() относительно задания 2. \n",
    "\n",
    "2. Заново проведите one-hot кодирование (для **небинарных, категориальных** признаков). Сколько признаков у вас получилось?"
   ]
  },
  {
   "cell_type": "code",
   "execution_count": null,
   "metadata": {},
   "outputs": [],
   "source": [
    "def create_features(data_frame):\n",
    "    # your code here\n",
    "    return [], []"
   ]
  },
  {
   "cell_type": "code",
   "execution_count": null,
   "metadata": {},
   "outputs": [],
   "source": [
    "%time new_X_train, new_y_train = create_features(df_train)"
   ]
  },
  {
   "cell_type": "code",
   "execution_count": null,
   "metadata": {},
   "outputs": [],
   "source": [
    "%time new_X_test, new_y_test = create_features(df_test)"
   ]
  },
  {
   "cell_type": "markdown",
   "metadata": {
    "deletable": false,
    "editable": false,
    "nbgrader": {
     "cell_type": "markdown",
     "checksum": "765e5b0b5fa4050d6706d26aa170b98d",
     "grade": false,
     "grade_id": "cell-6035030413245e5b",
     "locked": true,
     "schema_version": 3,
     "solution": false,
     "task": false
    }
   },
   "source": [
    "Теперь проведите OHE и запишите количество полученных признаков в переменную ```num_features```:"
   ]
  },
  {
   "cell_type": "code",
   "execution_count": null,
   "metadata": {
    "deletable": false,
    "nbgrader": {
     "cell_type": "code",
     "checksum": "4fac598f5466024ac32757261c65a6b2",
     "grade": false,
     "grade_id": "cell-595d0f7cb960a02c",
     "locked": false,
     "schema_version": 3,
     "solution": true,
     "task": false
    }
   },
   "outputs": [],
   "source": [
    "num_features = ...\n",
    "\n",
    "# your code here\n",
    "\n"
   ]
  },
  {
   "cell_type": "code",
   "execution_count": null,
   "metadata": {
    "deletable": false,
    "editable": false,
    "nbgrader": {
     "cell_type": "code",
     "checksum": "a807d956b6310e807bbbb31c67ddc397",
     "grade": true,
     "grade_id": "cell-8c4962cba0bbf1bd",
     "locked": true,
     "points": 1,
     "schema_version": 3,
     "solution": false,
     "task": false
    }
   },
   "outputs": [],
   "source": [
    "# В этой ячейке проверится итоговое количество признаков; переменная num_features\n",
    "# проверка, просто запустите ячейку\n"
   ]
  },
  {
   "cell_type": "markdown",
   "metadata": {
    "deletable": false,
    "editable": false,
    "id": "WE8Tn-_3F82I",
    "nbgrader": {
     "cell_type": "markdown",
     "checksum": "4e9df211953020151daf313df890a1d9",
     "grade": false,
     "grade_id": "cell-e8aca72446a32214",
     "locked": true,
     "schema_version": 3,
     "solution": false,
     "task": false
    }
   },
   "source": [
    "# Задание 4.1\n",
    "\n",
    "Продолжим работать с полученными в предыдущем задании пременными. На данный момент мы создали один вещественный и несколько категориальных признаков. После этого мы воспользовались OHE преобразованием для небинарных категориальных признаков. Пришло время обработать вещественный признак и, все-таки, обучить модель. Для этого продолжайте работать с полученными в предыдущем задании DataFrame для обучающего и тестового датасетов:\n",
    "\n",
    "1. Отмасштабируйте единственный вещественный признак.\n",
    "2. Обучите на полученных данных Lasso регрессию, в качества параметра `alpha` возьмите 2.65e-05.\n",
    "\n",
    "Какое качество (на тестовых данных) в терминах MSE вы получили?"
   ]
  },
  {
   "cell_type": "code",
   "execution_count": null,
   "metadata": {},
   "outputs": [],
   "source": [
    "# Ваш код для масштабирования вещественного признака:\n"
   ]
  },
  {
   "cell_type": "markdown",
   "metadata": {
    "deletable": false,
    "editable": false,
    "nbgrader": {
     "cell_type": "markdown",
     "checksum": "c56ad52fef8210eee42ec90c8a22db73",
     "grade": false,
     "grade_id": "cell-19d8191fd719daac",
     "locked": true,
     "schema_version": 3,
     "solution": false,
     "task": false
    }
   },
   "source": [
    "Чтобы не тратить время и мощности мы отрежем только 10000 примеров от обучающих данных. Здесь будет проверяться ответ именно для модели, обученной на первых 10000 примерах.\n",
    "\n",
    "Вы можете выполнить данный ноутбук в локальном jupyter или где-то еще и обучить модель на всем наборе данных. Абсолютно весь код при этом будет таким же, но на время обучения модели может потребоваться некоторое время."
   ]
  },
  {
   "cell_type": "code",
   "execution_count": null,
   "metadata": {},
   "outputs": [],
   "source": [
    "X_train = X_train[:10_000, :]  # если ваш датафрейм назвается по-другому замените название переменной\n",
    "y_train = y_train[:10_000]     # если ваши датафреймы назваются по-другому замените название переменной\n",
    "\n",
    "X_test = X_test[:2_500, :]\n",
    "y_test = y_test[:2_500]"
   ]
  },
  {
   "cell_type": "code",
   "execution_count": null,
   "metadata": {
    "deletable": false,
    "nbgrader": {
     "cell_type": "code",
     "checksum": "3d8a51d24a0aa3b41e0835cf58997626",
     "grade": false,
     "grade_id": "cell-7cebd2950bf4a5f0",
     "locked": false,
     "schema_version": 3,
     "solution": true,
     "task": false
    }
   },
   "outputs": [],
   "source": [
    "# Ваш код для обучения Lasso регрессии с параметром alpha 2.65e-05 и подсчетом MSE:\n",
    "\n",
    "MSE = ...\n",
    "\n",
    "\n",
    "# your code here\n"
   ]
  },
  {
   "cell_type": "code",
   "execution_count": null,
   "metadata": {
    "deletable": false,
    "editable": false,
    "nbgrader": {
     "cell_type": "code",
     "checksum": "8ccc495c1729a6f07bc33b081f6e2f72",
     "grade": true,
     "grade_id": "cell-2eff08c65ae1e058",
     "locked": true,
     "points": 1,
     "schema_version": 3,
     "solution": false,
     "task": false
    }
   },
   "outputs": [],
   "source": [
    "# проверка, просто запустите ячейку\n"
   ]
  },
  {
   "cell_type": "markdown",
   "metadata": {
    "deletable": false,
    "editable": false,
    "nbgrader": {
     "cell_type": "markdown",
     "checksum": "49568f18ae5aa87866ce6011bb9610dd",
     "grade": false,
     "grade_id": "cell-328017b47a9da3b3",
     "locked": true,
     "schema_version": 3,
     "solution": false,
     "task": false
    }
   },
   "source": [
    "# Задание 4.2\n",
    "\n",
    "Сколько признаков было отобрано? В качестве критерия зануления признака используйте сравнение с $10^{-6}$."
   ]
  },
  {
   "cell_type": "code",
   "execution_count": null,
   "metadata": {
    "deletable": false,
    "nbgrader": {
     "cell_type": "code",
     "checksum": "5216cb24c662a26b0b2f8ed9c370e53a",
     "grade": false,
     "grade_id": "cell-bdd8c3b4faf94844",
     "locked": false,
     "schema_version": 3,
     "solution": true,
     "task": false
    }
   },
   "outputs": [],
   "source": [
    "#Ваше решение\n",
    "\n",
    "\n",
    "num_nonzero_features = ...\n",
    "\n",
    "\n",
    "# your code here\n"
   ]
  },
  {
   "cell_type": "code",
   "execution_count": null,
   "metadata": {
    "deletable": false,
    "editable": false,
    "nbgrader": {
     "cell_type": "code",
     "checksum": "017cb295b75896a1486f6da777ac917c",
     "grade": true,
     "grade_id": "cell-f36e5b648df37c5b",
     "locked": true,
     "points": 1,
     "schema_version": 3,
     "solution": false,
     "task": false
    }
   },
   "outputs": [],
   "source": [
    "# проверка, просто запустите ячейку\n"
   ]
  }
 ],
 "metadata": {
  "colab": {
   "collapsed_sections": [],
   "name": "LinearRegression-Screencast.ipynb",
   "provenance": []
  },
  "kernelspec": {
   "display_name": "Python 3",
   "language": "python",
   "name": "python3"
  },
  "language_info": {
   "codemirror_mode": {
    "name": "ipython",
    "version": 3
   },
   "file_extension": ".py",
   "mimetype": "text/x-python",
   "name": "python",
   "nbconvert_exporter": "python",
   "pygments_lexer": "ipython3",
   "version": "3.7.6"
  }
 },
 "nbformat": 4,
 "nbformat_minor": 1
}
