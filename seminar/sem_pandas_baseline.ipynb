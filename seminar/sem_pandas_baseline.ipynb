{
 "cells": [
  {
   "cell_type": "markdown",
   "metadata": {
    "id": "slT6_UynTXxE"
   },
   "source": [
    "## pandas"
   ]
  },
  {
   "cell_type": "markdown",
   "metadata": {
    "id": "drjcM9F8zD0Y"
   },
   "source": [
    "![](https://drive.google.com/uc?id=13Vc8dLygbSncsAsIYvbsGQkm6Q-Bo9jQ)"
   ]
  },
  {
   "cell_type": "markdown",
   "metadata": {
    "id": "DzdqTdUUTXxG"
   },
   "source": [
    "- документация: http://pandas.pydata.org/pandas-docs/stable/\n",
    "- 10 minutes to pandas: https://pandas.pydata.org/pandas-docs/stable/10min.html\n",
    "- Pandas Tutorial: DataFrames in Python: https://www.datacamp.com/community/tutorials/pandas-tutorial-dataframe-python\n",
    "- Cheet Sheet: https://www.analyticsvidhya.com/blog/2015/07/11-steps-perform-data-analysis-pandas-python/\n",
    "- Visualization: http://pandas.pydata.org/pandas-docs/stable/visualization.html"
   ]
  },
  {
   "cell_type": "markdown",
   "metadata": {
    "id": "I7cGRiR9TXxH"
   },
   "source": [
    "Будем работать с данными, собранными благодаря опросу студентов математического курса средней школы в Португалии (возраст - от 15 до 22 лет). Они находятся в файле \"math_students.csv\". Целевой переменной является итоговая оценка студента за курс."
   ]
  },
  {
   "cell_type": "markdown",
   "metadata": {
    "colab": {
     "base_uri": "https://localhost:8080/",
     "height": 204
    },
    "id": "mO3WeDdtU7ZT",
    "outputId": "4f575602-38fa-44e4-9d9b-9a5a4671e6e3"
   },
   "source": [
    "###### мы уже скачали файл за вас! Но если вы работаете не на курсере, то вот команда.\n",
    "\n",
    "###### пожалуйста, не выполняйте ее на курсере.\n",
    "\n",
    "!wget --no-check-certificate 'https://docs.google.com/uc?export=download&id=1cq9JDz8-zwzoGL6udiT_ogHHRWdnsd1q' -O math_students.csv"
   ]
  },
  {
   "cell_type": "code",
   "execution_count": null,
   "metadata": {
    "id": "b-yKhxcyTXxI"
   },
   "outputs": [],
   "source": [
    "import matplotlib.pyplot as plt\n",
    "import pandas as pd\n",
    "\n",
    "# магическая функция, позволяющая выводить графики прямо в ноутбук\n",
    "%matplotlib inline"
   ]
  },
  {
   "cell_type": "markdown",
   "metadata": {
    "id": "c5qIPQqRTXxO"
   },
   "source": [
    "Загрузим данные и посмотрим на них."
   ]
  },
  {
   "cell_type": "code",
   "execution_count": null,
   "metadata": {
    "colab": {
     "base_uri": "https://localhost:8080/",
     "height": 379
    },
    "id": "9LnccQO5TXxP",
    "outputId": "d4005048-2515-4294-88f6-1557fe696b55"
   },
   "outputs": [],
   "source": [
    "# если данные и ноутбук находятся в разных папках, то для загрузки файла помимо названия необходимо также прописать путь к нему\n",
    "# .csv - текстовый файл для представления табличных данных, разделенных каким-то символом. В данном случае - запятой\n",
    "data = pd.read_csv('math_students.csv', delimiter=',')\n",
    "\n",
    "# функция .head(n) выводит первые n строк таблицы (по умолчанию n=5)\n",
    "data.head(10)"
   ]
  },
  {
   "cell_type": "markdown",
   "metadata": {
    "id": "wg9zBIc0TXxW"
   },
   "source": [
    "Аналогично, можно смотреть не на верхние строки таблицы, а на нижние:"
   ]
  },
  {
   "cell_type": "code",
   "execution_count": null,
   "metadata": {
    "colab": {
     "base_uri": "https://localhost:8080/",
     "height": 224
    },
    "id": "5k-vq6HxTXxX",
    "outputId": "bdcf505a-eb73-420c-a3c8-19547184cef6"
   },
   "outputs": [],
   "source": [
    "data.tail()"
   ]
  },
  {
   "cell_type": "markdown",
   "metadata": {
    "id": "nVsnFUZsTXxa"
   },
   "source": [
    "В данном случае объектами являются студенты, признаками - различные их характеристики. Найдем число и тех, и других:"
   ]
  },
  {
   "cell_type": "code",
   "execution_count": null,
   "metadata": {
    "colab": {
     "base_uri": "https://localhost:8080/",
     "height": 34
    },
    "id": "uLltaZZ2TXxa",
    "outputId": "0849aea2-7fb8-4765-ca66-b421e741dd07"
   },
   "outputs": [],
   "source": [
    "data.shape"
   ]
  },
  {
   "cell_type": "markdown",
   "metadata": {
    "id": "0YTWa6CRTXxd"
   },
   "source": [
    "Итак, всего объектов 395, а признаков - 32 (учитываем, что один из столбцов - это целевая переменная). Все признаки имеют разную природу. Вот их более подробная расшифровка:\n",
    "\n",
    " - school - тип школы (\"GP\" - Gabriel Pereira или \"MS\" - Mousinho da Silveira)\n",
    " - sex - пол (\"F\" - female или \"M\" - male)\n",
    " - age - возраст (от 15 до 22)\n",
    " - address - откуда студент (\"U\" - urban или \"R\" - rural)\n",
    " - famsize - размер семьи (\"LE3\" - меньше или равно 3 или \"GT3\" - больше 3)\n",
    " - Pstatus - в каких отношениях родители (\"T\" - живут вместе \"A\" - раздельно)\n",
    " - Medu - образование матери (0 - никакого,  1 - начальное образование (4 класса), 2 – от 5 до 9 классов, 3 – среднеспециальное или 4 – высшее)\n",
    " - Fedu - образование отца (0 - никакого,  1 - начальное образование (4 класса), 2 – от 5 до 9 классов, 3 – среднеспециальное или 4 – высшее)\n",
    " - Mjob - работа матери (\"teacher\", \"health\" care related, civil \"services\" (e.g. administrative or police), \"at_home\" or \"other\")\n",
    " - Fjob - работа отца (\"teacher\", \"health\" care related, civil \"services\" (e.g. administrative or police), \"at_home\" or \"other\")\n",
    " - reason - причина выбора школы (близко к дому — \"home\", репутация школы — \"reputation\", предпочтение некоторым предметам - \"course\" или \"other\")\n",
    " - guardian - опекун (\"mother\", \"father\" или \"other\")\n",
    " - traveltime - время от дома до школы (1 - меньше 15 мин., 2 - 15 до 30 мин., 3 - 30 мин. до 1 часа, или 4 - больше 1 часа)\n",
    " - studytime - количество часов обучения в неделю (1 - меньше 2 часов, 2 - от 2 до 5 часов, 3 - от 5 до 10 часов, или 4 - больше 10 часов)\n",
    " - failures - количество ранее не сданных предметов (n if 1 <= n < 3, else 4)\n",
    " - schoolsup - дополнительные занятия (yes or no)\n",
    " - famsup - помощь от семьи при выполнении заданий (yes or no)\n",
    " - paid - дополнительные платные занятия (yes or no)\n",
    " - activities - внеклассная деятельность (yes or no)\n",
    " - nursery - посещал детский сад (yes or no)\n",
    " - higher - желание высшего образования (yes or no)\n",
    " - internet - домашний интернет (yes or no)\n",
    " - romantic - состоит в романтических отношениях (yes or no)\n",
    " - famrel - насколько хороши отношения в семье (от 1 - очень плохие до 5 - превосходные)\n",
    " - freetime - наличие свободного времени после школы (от 1 - очень мало до 5 - очень много)\n",
    " - goout - гуляет с друзьями (от 1 - редко до 5 - очень часто)\n",
    " - Dalc - употребление алкоголя в будние дни (от 1 - очень редко до 5 - очень часто)\n",
    " - Walc - употребление алкоголя в выходные (от 1 - очень редко до 5 - очень часто)\n",
    " - health - текущее состояние здоровья (от 1 - очень плохое до 5 - очень хорошее)\n",
    " - absences - количество школьных пропусков (от 0 до 93)\n",
    " - G1 - оценка за первый семестр (от 0 до 20)\n",
    " - G2 - оценка за второй семестр (от 0 до 20)\n",
    " - G3 - итоговая оценка (от 0 до 20)"
   ]
  },
  {
   "cell_type": "markdown",
   "metadata": {
    "id": "W9W5ZDjuTXxe"
   },
   "source": [
    "Для вывода названий всех признаков есть специальная функция:"
   ]
  },
  {
   "cell_type": "code",
   "execution_count": null,
   "metadata": {
    "colab": {
     "base_uri": "https://localhost:8080/",
     "height": 119
    },
    "id": "UQf1zOCATXxe",
    "outputId": "9b86bbaf-c498-4ddd-84eb-3e217fe9dd3f"
   },
   "outputs": [],
   "source": [
    "data.columns"
   ]
  },
  {
   "cell_type": "code",
   "execution_count": null,
   "metadata": {
    "colab": {
     "base_uri": "https://localhost:8080/",
     "height": 119
    },
    "id": "vCa7QEuFIB4j",
    "outputId": "6894993b-9b76-4c1e-c08f-b9d3c065356e"
   },
   "outputs": [],
   "source": [
    "data.columns[:-1]"
   ]
  },
  {
   "cell_type": "markdown",
   "metadata": {
    "id": "M1G9q6xtTXxh"
   },
   "source": [
    "Как получить таблицу без последней колонки?"
   ]
  },
  {
   "cell_type": "code",
   "execution_count": null,
   "metadata": {
    "colab": {
     "base_uri": "https://localhost:8080/",
     "height": 224
    },
    "id": "IQzwHAlTIL46",
    "outputId": "f004cef4-f5e8-4d1d-cff8-c75fc1591e10"
   },
   "outputs": [],
   "source": [
    "data[data.columns].head()"
   ]
  },
  {
   "cell_type": "code",
   "execution_count": null,
   "metadata": {
    "colab": {
     "base_uri": "https://localhost:8080/",
     "height": 224
    },
    "id": "z1DZwwVJTXxi",
    "outputId": "8c071294-0f60-49d9-d1b8-25eff9f61dc4"
   },
   "outputs": [],
   "source": [
    "data[data.columns[:-1]].head()"
   ]
  },
  {
   "cell_type": "code",
   "execution_count": null,
   "metadata": {
    "colab": {
     "base_uri": "https://localhost:8080/",
     "height": 224
    },
    "id": "JntqD8zeTXxm",
    "outputId": "934b2c19-0ebc-452d-d5d2-1e3a49736a28"
   },
   "outputs": [],
   "source": [
    "data.iloc[:, :-1].head()"
   ]
  },
  {
   "cell_type": "code",
   "execution_count": null,
   "metadata": {
    "colab": {
     "base_uri": "https://localhost:8080/",
     "height": 224
    },
    "id": "76wfIMO9TXxo",
    "outputId": "18859327-431f-4b4e-cfd0-c90089592e67"
   },
   "outputs": [],
   "source": [
    "data.loc[:, data.columns[:-1]].head()"
   ]
  },
  {
   "cell_type": "code",
   "execution_count": null,
   "metadata": {
    "colab": {
     "base_uri": "https://localhost:8080/",
     "height": 224
    },
    "id": "BpEGkJ-G7sIl",
    "outputId": "4b361aac-7448-47b5-efa6-918b62c4613d"
   },
   "outputs": [],
   "source": [
    "data.drop(['G3'], axis=1).head()"
   ]
  },
  {
   "cell_type": "markdown",
   "metadata": {
    "id": "-nLyCvBNTXxr"
   },
   "source": [
    "Посмотрим, есть ли в данных пропуски:"
   ]
  },
  {
   "cell_type": "code",
   "execution_count": null,
   "metadata": {
    "colab": {
     "base_uri": "https://localhost:8080/",
     "height": 34
    },
    "id": "MgdTA7paTXxr",
    "outputId": "74f7f16e-9c3d-4ae6-f517-2cdc8521c262"
   },
   "outputs": [],
   "source": [
    "data.isnull().any().any()"
   ]
  },
  {
   "cell_type": "markdown",
   "metadata": {
    "id": "DgEbfmyzTXxu"
   },
   "source": [
    "Итак, пропусков нет."
   ]
  },
  {
   "cell_type": "markdown",
   "metadata": {
    "id": "vNi80MYPTXxv"
   },
   "source": [
    "По любой функции можно получить информацию из документации следующим образом:"
   ]
  },
  {
   "cell_type": "code",
   "execution_count": null,
   "metadata": {
    "id": "cWvQbR90TXxv"
   },
   "outputs": [],
   "source": [
    "?pd.isnull()"
   ]
  },
  {
   "cell_type": "markdown",
   "metadata": {
    "id": "K8JLfxLKTXxx"
   },
   "source": [
    "Либо - нажав Shift+Tab+Tab."
   ]
  },
  {
   "cell_type": "markdown",
   "metadata": {
    "id": "88fPyx46TXxy"
   },
   "source": [
    "Можно вывести статистику по значениям признаков:"
   ]
  },
  {
   "cell_type": "code",
   "execution_count": null,
   "metadata": {
    "colab": {
     "base_uri": "https://localhost:8080/",
     "height": 297
    },
    "id": "cuwyeyVCTXxy",
    "outputId": "772e218f-04dc-4721-80b5-68cdd096d7fc"
   },
   "outputs": [],
   "source": [
    "data.describe()"
   ]
  },
  {
   "cell_type": "markdown",
   "metadata": {
    "id": "Zp7Mf-A_TXx2"
   },
   "source": [
    "Более подробное описание значений признаков (количество непустых значений, типов столбцов и объема занимаемой памяти):"
   ]
  },
  {
   "cell_type": "code",
   "execution_count": null,
   "metadata": {
    "colab": {
     "base_uri": "https://localhost:8080/",
     "height": 663
    },
    "id": "-fLcFVedTXx3",
    "outputId": "b83a7721-7a82-46a3-fec5-25ffeb0cf08f"
   },
   "outputs": [],
   "source": [
    "data.info()"
   ]
  },
  {
   "cell_type": "markdown",
   "metadata": {
    "id": "ka6NHHSfTXx6"
   },
   "source": [
    "Какие значения принимает признак `guardian`?"
   ]
  },
  {
   "cell_type": "code",
   "execution_count": null,
   "metadata": {
    "colab": {
     "base_uri": "https://localhost:8080/",
     "height": 34
    },
    "id": "tt9KrSsDTXx7",
    "outputId": "748eca7c-5c9e-4ba2-efb6-083c3d152782"
   },
   "outputs": [],
   "source": [
    "data['guardian'].unique()"
   ]
  },
  {
   "cell_type": "code",
   "execution_count": null,
   "metadata": {
    "colab": {
     "base_uri": "https://localhost:8080/",
     "height": 34
    },
    "id": "yVaKL3mYTXx-",
    "outputId": "7aeaf2cf-dd58-44ac-caa0-fce02586aadd"
   },
   "outputs": [],
   "source": [
    "data['guardian'].nunique()"
   ]
  },
  {
   "cell_type": "code",
   "execution_count": null,
   "metadata": {
    "colab": {
     "base_uri": "https://localhost:8080/",
     "height": 85
    },
    "id": "uZyS8Hf8TXyB",
    "outputId": "66266162-203c-42eb-ee9d-ce6d1393a2fe"
   },
   "outputs": [],
   "source": [
    "data['guardian'].value_counts()"
   ]
  },
  {
   "cell_type": "markdown",
   "metadata": {
    "id": "_CcSMrhuTXyD"
   },
   "source": [
    "Выделим только тех студентов, у которых опекуном является мать и которая работает учителем или на дому:"
   ]
  },
  {
   "cell_type": "code",
   "execution_count": null,
   "metadata": {
    "id": "tqsGZ7DzTXyE",
    "outputId": "0a9bc2cf-fb64-4019-e7f9-aaa35a49e9d0"
   },
   "outputs": [],
   "source": [
    "data[(data['guardian'] == 'mother') & ((data['Mjob'] == 'teacher') | (data['Mjob'] == 'at_home'))].head()"
   ]
  },
  {
   "cell_type": "code",
   "execution_count": null,
   "metadata": {
    "colab": {
     "base_uri": "https://localhost:8080/",
     "height": 34
    },
    "id": "kQI3gkz7NvBV",
    "outputId": "d6910f11-fea6-4bae-8e35-57a96e7f06b1"
   },
   "outputs": [],
   "source": [
    "data[(data['guardian'] == 'mother') & ((data['Mjob'] == 'teacher') | (data['Mjob'] == 'at_home'))].shape"
   ]
  },
  {
   "cell_type": "markdown",
   "metadata": {
    "id": "Ci6bdKUJTXyG"
   },
   "source": [
    "Работа с признаками - очень важный этап решения задачи. Помимо имеющихся признаков, можно создавать новые, которые могут оказаться полезными для построения качественного алгоритма. Например, внимательно изучив описания признаков, связанных с алкоголем, создадим признак \"alc\", который будет отражать общее употребление алкоголя в течение недели по формуле ниже:\n",
    "\n",
    "$$\n",
    "alc = \\frac{5\\times Dalc + 2 \\times Walc}{7}\n",
    "$$"
   ]
  },
  {
   "cell_type": "code",
   "execution_count": null,
   "metadata": {
    "id": "yS6NeWCvTXyH"
   },
   "outputs": [],
   "source": [
    "data['alc'] = (5 * data['Dalc'] + 2 * data['Walc']) / 7"
   ]
  },
  {
   "cell_type": "code",
   "execution_count": null,
   "metadata": {
    "colab": {
     "base_uri": "https://localhost:8080/",
     "height": 359
    },
    "id": "9RyUKs-RTXyK",
    "outputId": "d9292f22-5c78-4384-ed41-44bf3a92fca0"
   },
   "outputs": [],
   "source": [
    "data[['Walc', 'Dalc', 'alc']].head(10)"
   ]
  },
  {
   "cell_type": "code",
   "execution_count": null,
   "metadata": {
    "colab": {
     "base_uri": "https://localhost:8080/",
     "height": 34
    },
    "id": "-5CHvcQBRTan",
    "outputId": "66e06165-de31-4283-f82e-4727be643939"
   },
   "outputs": [],
   "source": [
    "data.shape"
   ]
  },
  {
   "cell_type": "markdown",
   "metadata": {
    "id": "KyYnjlpFTXyM"
   },
   "source": [
    "Проанализируем взаимосвязь количества пропусков и успехов в учебе. Посмотрим на распределение количества пропусков у студентов:"
   ]
  },
  {
   "cell_type": "code",
   "execution_count": null,
   "metadata": {
    "colab": {
     "base_uri": "https://localhost:8080/",
     "height": 458
    },
    "id": "9Pk46lGCTXyM",
    "outputId": "85d05e31-54a1-475c-ca2b-61d2cd6f2859"
   },
   "outputs": [],
   "source": [
    "plt.figure(figsize=(10,7))\n",
    "plt.title('Absences distribution')\n",
    "data['absences'].hist()\n",
    "plt.xlabel('absences')\n",
    "plt.ylabel('number of students')\n",
    "plt.show()"
   ]
  },
  {
   "cell_type": "markdown",
   "metadata": {
    "id": "L2ADalwITXyP"
   },
   "source": [
    "Посмотрим на среднее количество пропусков:"
   ]
  },
  {
   "cell_type": "code",
   "execution_count": null,
   "metadata": {
    "colab": {
     "base_uri": "https://localhost:8080/",
     "height": 34
    },
    "id": "3eF65Ha4TXyQ",
    "outputId": "636d2b92-88bc-4100-adf5-2646239fdb97"
   },
   "outputs": [],
   "source": [
    "data['absences'].mean()"
   ]
  },
  {
   "cell_type": "markdown",
   "metadata": {
    "id": "RpQQdPmPTXyS"
   },
   "source": [
    "Итак, из гистограммы и полученного значения можно сделать вывод, что большинство студентов пропускает не так много занятий. Теперь посмотрим на влияние количества пропусков на итоговую оценку. Для этого разделим студентов на две части: те, у кого количество пропусков меньше среднего, и те, у кого оно не меньше среднего."
   ]
  },
  {
   "cell_type": "code",
   "execution_count": null,
   "metadata": {
    "id": "fCIgxkHcTXyT"
   },
   "outputs": [],
   "source": [
    "mean_absences = data['absences'].mean()\n",
    "stud_few_absences = data[data['absences'] < mean_absences]\n",
    "stud_many_absences = data[data['absences'] >= mean_absences]"
   ]
  },
  {
   "cell_type": "markdown",
   "metadata": {
    "id": "IZR2O3o5TXyV"
   },
   "source": [
    "Посмотрим, сколько получилось и тех, и других."
   ]
  },
  {
   "cell_type": "code",
   "execution_count": null,
   "metadata": {
    "colab": {
     "base_uri": "https://localhost:8080/",
     "height": 51
    },
    "id": "TW9gDhj4TXyV",
    "outputId": "854568cf-80c9-4652-d95f-817c9562dbc6"
   },
   "outputs": [],
   "source": [
    "print('Students with few absences:', stud_few_absences.shape[0])\n",
    "print('Students with many absences:', stud_many_absences.shape[0])"
   ]
  },
  {
   "cell_type": "markdown",
   "metadata": {
    "id": "my2xR_yfTXyX"
   },
   "source": [
    "Посчитаем среднее значение целевой переменной для каждой части."
   ]
  },
  {
   "cell_type": "code",
   "execution_count": null,
   "metadata": {
    "colab": {
     "base_uri": "https://localhost:8080/",
     "height": 51
    },
    "id": "V-lvPZVdTXyY",
    "outputId": "56d3294f-9c2d-44fa-8bf7-5dbf67ee3c21"
   },
   "outputs": [],
   "source": [
    "stud_few_absences_g3 = stud_few_absences['G3'].mean()\n",
    "stud_many_absences_g3 = stud_many_absences['G3'].mean()\n",
    "print('Students with few absences, mean G3:', stud_few_absences_g3)\n",
    "print('Students with many absences, mean G3:', stud_many_absences_g3)"
   ]
  },
  {
   "cell_type": "markdown",
   "metadata": {
    "id": "eacmZKHSTXya"
   },
   "source": [
    "Итак, средние оценки примерно одинаковы - у тех, кто пропускал меньше занятий, она чуть хуже. Возможно, студенты, пропускавшие много занятий, знали материал очень хорошо :) Впрочем, подобное исследование не позволяет делать никаких серьезных выводов."
   ]
  },
  {
   "cell_type": "markdown",
   "metadata": {
    "id": "z9JqJyqRTXyb"
   },
   "source": [
    "Также данные можно исследовать с помощью группировки и агрегирования. Например, найдем исследуем закономерности, связанные с разными школами. Сгруппируем объекты по школам:"
   ]
  },
  {
   "cell_type": "code",
   "execution_count": null,
   "metadata": {
    "colab": {
     "base_uri": "https://localhost:8080/",
     "height": 222
    },
    "id": "ZnGAs76pTXyc",
    "outputId": "fa8f2e7c-c69e-4e6d-d3ec-0a4aa05e7343"
   },
   "outputs": [],
   "source": [
    "data_by_school = data.groupby('school')\n",
    "data_by_school.describe()"
   ]
  },
  {
   "cell_type": "markdown",
   "metadata": {
    "id": "XhtcBnZ6TXye"
   },
   "source": [
    "Теперь посмотрим на среднее значение признаков для каждой школы:"
   ]
  },
  {
   "cell_type": "code",
   "execution_count": null,
   "metadata": {
    "colab": {
     "base_uri": "https://localhost:8080/",
     "height": 142
    },
    "id": "aFJXcwTrTXye",
    "outputId": "ccf89c7a-a9d8-4def-819e-05b4f620e660"
   },
   "outputs": [],
   "source": [
    "data_by_school.mean()"
   ]
  },
  {
   "cell_type": "markdown",
   "metadata": {
    "id": "YuPEe6sKTXyk"
   },
   "source": [
    "Можно заметить, например, что в среднем до школы Mousinho da Silveira студентам нужно добираться дольше, чем до Gabriel Pereira. Интересно, что, несмотря на это, в среднем количество пропусков у них меньше."
   ]
  }
 ],
 "metadata": {
  "colab": {
   "collapsed_sections": [],
   "name": "sem_pandas_baseline.ipynb",
   "provenance": []
  },
  "kernelspec": {
   "display_name": "Python 3",
   "language": "python",
   "name": "python3"
  },
  "language_info": {
   "codemirror_mode": {
    "name": "ipython",
    "version": 3
   },
   "file_extension": ".py",
   "mimetype": "text/x-python",
   "name": "python",
   "nbconvert_exporter": "python",
   "pygments_lexer": "ipython3",
   "version": "3.7.6"
  }
 },
 "nbformat": 4,
 "nbformat_minor": 1
}
