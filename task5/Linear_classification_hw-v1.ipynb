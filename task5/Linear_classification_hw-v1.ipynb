{
 "cells": [
  {
   "cell_type": "code",
   "execution_count": null,
   "metadata": {
    "id": "GlYLS9t3-Y0T"
   },
   "outputs": [],
   "source": [
    "import numpy as np\n",
    "import pandas as pd"
   ]
  },
  {
   "cell_type": "markdown",
   "metadata": {
    "deletable": false,
    "editable": false,
    "id": "cYMVB5Yx-Y0W",
    "nbgrader": {
     "cell_type": "markdown",
     "checksum": "dddac6059b2a2d1e065d653c6a5ceec4",
     "grade": false,
     "grade_id": "cell-ef4dab5d423720fb",
     "locked": true,
     "schema_version": 3,
     "solution": false,
     "task": false
    }
   },
   "source": [
    "В этом задании вы будете работать с [данными о пациентах, у части которых есть заболевание сердца](https://www.kaggle.com/ronitf/heart-disease-uci). Вам нужно построить модель, классифицирующую пациентов на больных этим заболеванием и тех, у кого его нет, а также проанализировать результаты."
   ]
  },
  {
   "cell_type": "code",
   "execution_count": null,
   "metadata": {
    "colab": {
     "base_uri": "https://localhost:8080/",
     "height": 195
    },
    "id": "X6qnhkcC-Y0W",
    "outputId": "af89551f-d385-4f86-f9ea-e614de2db966"
   },
   "outputs": [],
   "source": [
    "data = pd.read_csv('heart.csv')\n",
    "data.head()"
   ]
  },
  {
   "cell_type": "markdown",
   "metadata": {
    "deletable": false,
    "editable": false,
    "id": "vSEr-DrP-Y0Z",
    "nbgrader": {
     "cell_type": "markdown",
     "checksum": "cdf0e6750efa236752b2499a2485855f",
     "grade": false,
     "grade_id": "cell-0d41f3506c75e25b",
     "locked": true,
     "schema_version": 3,
     "solution": false,
     "task": false
    }
   },
   "source": [
    "1. Какой процент пациентов из представленных в данных имеет заболевание сердца (`'target' = 1`)? Ответ округлите до двух знаков после запятой."
   ]
  },
  {
   "cell_type": "code",
   "execution_count": null,
   "metadata": {
    "deletable": false,
    "id": "zTmRguplRkee",
    "nbgrader": {
     "cell_type": "code",
     "checksum": "89bb2e8d749e2840704fa3ed3fdbdf83",
     "grade": false,
     "grade_id": "cell-b0fc896de408591f",
     "locked": false,
     "schema_version": 3,
     "solution": true,
     "task": false
    }
   },
   "outputs": [],
   "source": [
    "# Ваше решение, ответ должен быть в процентах\n",
    "\n",
    "percentage = ...\n",
    "\n",
    "# your code here\n"
   ]
  },
  {
   "cell_type": "code",
   "execution_count": null,
   "metadata": {
    "deletable": false,
    "editable": false,
    "nbgrader": {
     "cell_type": "code",
     "checksum": "5e54eae99efc09da38f9cf3a965d7572",
     "grade": false,
     "grade_id": "cell-d56ef78b4166b23f",
     "locked": true,
     "schema_version": 3,
     "solution": false,
     "task": false
    }
   },
   "outputs": [],
   "source": [
    "# Небольшая проверка для себя\n",
    "# В таких блоках мы сравниваем хэш вашего ответа и верного. \n",
    "# Таким образом вы поймете, правильный ли ваш ответ на данное задание\n",
    "\n",
    "# Если ничего не вывелось, то ответ верный. Если ошибка, то проверьте это задание.\n",
    "import hashlib\n",
    "\n",
    "assert hashlib.sha256(str(round(percentage, 2)).encode()).hexdigest() == 'ae7e788101c1dace06a4eb93d50c94a6ffd6069ba4ce31b386ccf8c42d5c1fa3'"
   ]
  },
  {
   "cell_type": "code",
   "execution_count": null,
   "metadata": {
    "deletable": false,
    "editable": false,
    "nbgrader": {
     "cell_type": "code",
     "checksum": "5e3f7cb2233f3511b197a7f291ecac86",
     "grade": true,
     "grade_id": "cell-934dfe7c1891fbe2",
     "locked": true,
     "points": 1,
     "schema_version": 3,
     "solution": false,
     "task": false
    }
   },
   "outputs": [],
   "source": [
    "# проверка, просто запустите ячейку\n"
   ]
  },
  {
   "cell_type": "markdown",
   "metadata": {
    "deletable": false,
    "editable": false,
    "id": "UuXUxx8C-Y0c",
    "nbgrader": {
     "cell_type": "markdown",
     "checksum": "284198e1ebbffbe4676cccc2617b7956",
     "grade": false,
     "grade_id": "cell-96eaf537ee745fa2",
     "locked": true,
     "schema_version": 3,
     "solution": false,
     "task": false
    }
   },
   "source": [
    "Разделим данную выборку на обучающую и тестовую части в отношении 3:1."
   ]
  },
  {
   "cell_type": "code",
   "execution_count": null,
   "metadata": {
    "colab": {
     "base_uri": "https://localhost:8080/",
     "height": 34
    },
    "id": "SDAbZBIF-Y0c",
    "outputId": "a8ab7645-d2cc-4eb8-b7e7-08814b8d7d43"
   },
   "outputs": [],
   "source": [
    "from sklearn.model_selection import train_test_split\n",
    "X_train, X_test, y_train, y_test = train_test_split(data.drop('target', axis=1), data['target'], test_size=0.25, random_state=13)\n",
    "X_train.shape, X_test.shape"
   ]
  },
  {
   "cell_type": "markdown",
   "metadata": {
    "deletable": false,
    "editable": false,
    "id": "zx6L2daY-Y0f",
    "nbgrader": {
     "cell_type": "markdown",
     "checksum": "8b18ff88ef0c47014b20a55002d552c5",
     "grade": false,
     "grade_id": "cell-7f36f9498e5c58fc",
     "locked": true,
     "schema_version": 3,
     "solution": false,
     "task": false
    }
   },
   "source": [
    "2. Обучите линейный классификатор из `sklearn` (`sklearn.linear_model.SGDClassifier`) с максимальным числом итераций `max_iter=1000`, постоянным значением шага градиентного спуска (`learning_rate='constant'`), равным `eta0=0.1`. В качестве сида поставьте `random_state=13`. Параметр регуляризации отключите: `alpha=0`. Класс `sklearn.linear_model.SGDClassifier` объединяет в себе разные линейные модели - чтобы получить логистическую регрессию, зафиксируйте параметр `loss='log'`.\n",
    "\n",
    "   Подробнее о параметрах можно почитать в [документации](https://scikit-learn.org/stable/modules/generated/sklearn.linear_model.SGDClassifier.html).\n",
    "\n",
    "   Какое значение свободного коэффициента у полученного линейного классификатора? Ответ округлите до двух знаков после запятой."
   ]
  },
  {
   "cell_type": "code",
   "execution_count": null,
   "metadata": {
    "deletable": false,
    "id": "oEajYrOrRmNM",
    "nbgrader": {
     "cell_type": "code",
     "checksum": "f2d0260c1cd48ef3070ea6231ee9ff3e",
     "grade": false,
     "grade_id": "cell-9496ddae7084b805",
     "locked": false,
     "schema_version": 3,
     "solution": true,
     "task": false
    }
   },
   "outputs": [],
   "source": [
    "# Ваше решение\n",
    "\n",
    "bias = ...\n",
    "\n",
    "# your code here\n"
   ]
  },
  {
   "cell_type": "code",
   "execution_count": null,
   "metadata": {
    "deletable": false,
    "editable": false,
    "nbgrader": {
     "cell_type": "code",
     "checksum": "d59f767a2c43a7fb6fae7bb0cccba5b4",
     "grade": false,
     "grade_id": "cell-3cbe969bae9a17cc",
     "locked": true,
     "schema_version": 3,
     "solution": false,
     "task": false
    }
   },
   "outputs": [],
   "source": [
    "# Небольшая проверка для себя\n",
    "import hashlib\n",
    "\n",
    "assert hashlib.sha256(str(round(bias, 2)).encode()).hexdigest() == '3820432083ebcb0c1ce61edb801f426c1e57ddf42c663395720eecc136ccbf29'"
   ]
  },
  {
   "cell_type": "code",
   "execution_count": null,
   "metadata": {
    "deletable": false,
    "editable": false,
    "nbgrader": {
     "cell_type": "code",
     "checksum": "47e68abaf65e6ffe1ba174c6383c9287",
     "grade": true,
     "grade_id": "cell-e239d2d881176744",
     "locked": true,
     "points": 1,
     "schema_version": 3,
     "solution": false,
     "task": false
    }
   },
   "outputs": [],
   "source": [
    "# проверка, просто запустите ячейку\n"
   ]
  },
  {
   "cell_type": "markdown",
   "metadata": {
    "deletable": false,
    "editable": false,
    "id": "MpQP-UAy-Y0i",
    "nbgrader": {
     "cell_type": "markdown",
     "checksum": "906c0eacc7a759e6d396ed27a025fd09",
     "grade": false,
     "grade_id": "cell-59e1e0da5804fd12",
     "locked": true,
     "schema_version": 3,
     "solution": false,
     "task": false
    }
   },
   "source": [
    "3. Какое значение L2-нормы вектора весов (без учета свободного коэффициента) у полученного линейного классификатора? Ответ округлите до двух знаков после запятой.\n",
    "\n",
    "_Напоминание. L2-норма вектора $v = (v_1, \\ldots, v_n)$ - это корень из суммы квадратов его элементов:_\n",
    "\n",
    "$$\n",
    "\\|v\\|_2 = \\sqrt{\\sum\\limits_{i=1}^nv_i^2}\n",
    "$$"
   ]
  },
  {
   "cell_type": "code",
   "execution_count": null,
   "metadata": {
    "deletable": false,
    "id": "L7Yxn8vnRpIX",
    "nbgrader": {
     "cell_type": "code",
     "checksum": "c7652571a7ad92f39ff63205925ff34c",
     "grade": false,
     "grade_id": "cell-da68eb8c750b115d",
     "locked": false,
     "schema_version": 3,
     "solution": true,
     "task": false
    }
   },
   "outputs": [],
   "source": [
    "# Ваше решение\n",
    "\n",
    "l2_norm = ...\n",
    "\n",
    "# your code here\n"
   ]
  },
  {
   "cell_type": "code",
   "execution_count": null,
   "metadata": {
    "deletable": false,
    "editable": false,
    "nbgrader": {
     "cell_type": "code",
     "checksum": "091a0e228c092ee2339ea2b522a0bfe6",
     "grade": false,
     "grade_id": "cell-011c229dd9a12ee7",
     "locked": true,
     "schema_version": 3,
     "solution": false,
     "task": false
    }
   },
   "outputs": [],
   "source": [
    "# Небольшая проверка для себя\n",
    "import hashlib\n",
    "\n",
    "assert hashlib.sha256(str(round(l2_norm, 2)).encode()).hexdigest() == '18d52dbaf40f05f6e253ad8268314a0ae95f578642ebe64d3c835dd7208c498a'"
   ]
  },
  {
   "cell_type": "code",
   "execution_count": null,
   "metadata": {
    "deletable": false,
    "editable": false,
    "nbgrader": {
     "cell_type": "code",
     "checksum": "7cdcb9cacca205c9aa0e8635b1f06490",
     "grade": true,
     "grade_id": "cell-ea476ad01ae40f20",
     "locked": true,
     "points": 1,
     "schema_version": 3,
     "solution": false,
     "task": false
    }
   },
   "outputs": [],
   "source": [
    "# проверка, просто запустите ячейку\n"
   ]
  },
  {
   "cell_type": "markdown",
   "metadata": {
    "deletable": false,
    "editable": false,
    "id": "xCAGwry5-Y0k",
    "nbgrader": {
     "cell_type": "markdown",
     "checksum": "ee44d0f8704904f9d4bac38c31a8c73e",
     "grade": false,
     "grade_id": "cell-71cae81ddfcbc2a4",
     "locked": true,
     "schema_version": 3,
     "solution": false,
     "task": false
    }
   },
   "source": [
    "4. Найдите долю правильных ответов классификатора на тестовой части выборки **(в процентах)**. Ответ округлите до двух знаков после запятой. Например, если значение доли правильных ответов будет равно 0.1234, то ответом будет 12.34 - ведь это 12.34%."
   ]
  },
  {
   "cell_type": "code",
   "execution_count": null,
   "metadata": {
    "deletable": false,
    "id": "8ewvCkR2RrAp",
    "nbgrader": {
     "cell_type": "code",
     "checksum": "aa3245d7b85afebfc316ce573729e97d",
     "grade": false,
     "grade_id": "cell-bc257b3c94bc0eda",
     "locked": false,
     "schema_version": 3,
     "solution": true,
     "task": false
    }
   },
   "outputs": [],
   "source": [
    "# Ваше решение, ответ должен быть в процентах\n",
    "\n",
    "accuracy = ...\n",
    "\n",
    "# your code here\n"
   ]
  },
  {
   "cell_type": "code",
   "execution_count": null,
   "metadata": {
    "deletable": false,
    "editable": false,
    "nbgrader": {
     "cell_type": "code",
     "checksum": "57e7c96a42828fb6d5aa0a354c652491",
     "grade": false,
     "grade_id": "cell-d467eb1a010879b4",
     "locked": true,
     "schema_version": 3,
     "solution": false,
     "task": false
    }
   },
   "outputs": [],
   "source": [
    "# Небольшая проверка для себя\n",
    "import hashlib\n",
    "\n",
    "assert hashlib.sha256(str(round(accuracy, 2)).encode()).hexdigest() == '93892ed3aef008defb5528b796e7192a3965b198d56bbf5436250366e5a4c255'"
   ]
  },
  {
   "cell_type": "code",
   "execution_count": null,
   "metadata": {
    "deletable": false,
    "editable": false,
    "nbgrader": {
     "cell_type": "code",
     "checksum": "d852f5787b3bafcd07ac9619c66aee82",
     "grade": true,
     "grade_id": "cell-3ad080cff38542f4",
     "locked": true,
     "points": 1,
     "schema_version": 3,
     "solution": false,
     "task": false
    }
   },
   "outputs": [],
   "source": [
    "# проверка, просто запустите ячейку\n"
   ]
  },
  {
   "cell_type": "markdown",
   "metadata": {
    "deletable": false,
    "editable": false,
    "id": "ICrH_Gb_-Y0n",
    "nbgrader": {
     "cell_type": "markdown",
     "checksum": "0d8c0f6f53ee2780d5dbfe92d113a637",
     "grade": false,
     "grade_id": "cell-6b07d886c68ce7c6",
     "locked": true,
     "schema_version": 3,
     "solution": false,
     "task": false
    }
   },
   "source": [
    "5. В задаче классификации, как и в задаче регрессии, для оптимизации линейных моделей можно применять регуляризацию. Этот метод реализован и в `sklearn.linear_model.SGDClassifier` - параметр регуляризации обозначается параметром `alpha`. За тип регуляризации (L1, L2 или обе сразу) отвечает параметр `penalty`. \n",
    "\n",
    "   Обучите классификатор заново с параметром регуляризации `alpha=0.1` и типом регуляризации `penalty='l1'`. Оставьте максимальное число итераций, равное `max_iter=1000` и сид `random_state=13`. Также вместо постоянного значения шага градиентного спуска используйте оптимальное (`learning_rate='optimal'`), которое, кстати, зависит от `alpha` (о том, как именно он вычисляется и какие еще параметры можно выбрать, можно подробнее прочитать в [документации](https://scikit-learn.org/stable/modules/generated/sklearn.linear_model.SGDClassifier.html)). В данном случае значение начального шага градиентного спуска `eta0` никак не участвует в обучении.\n",
    "   \n",
    "   Отличается ли качество полученного классификатора от качества первого? Какая доля правильных ответов получается теперь на тестовой выборке? Выразите ее **в процентах**, ответ округлите до двух знаков после запятой. Например, если значение доли правильных ответов будет равно 0.1234, то ответом будет 12.34 - ведь это 12.34%."
   ]
  },
  {
   "cell_type": "code",
   "execution_count": null,
   "metadata": {
    "deletable": false,
    "id": "1que_LwfRspA",
    "nbgrader": {
     "cell_type": "code",
     "checksum": "7766f23b609677be7f6e1cf35fcd9249",
     "grade": false,
     "grade_id": "cell-fdd81bfab4f8d87c",
     "locked": false,
     "schema_version": 3,
     "solution": true,
     "task": false
    }
   },
   "outputs": [],
   "source": [
    "# Ваше решение, ответ должен быть в процентах\n",
    "\n",
    "new_accuracy = ...\n",
    "\n",
    "# your code here\n"
   ]
  },
  {
   "cell_type": "code",
   "execution_count": null,
   "metadata": {
    "deletable": false,
    "editable": false,
    "nbgrader": {
     "cell_type": "code",
     "checksum": "8c23c5e0541a814aa44d1be9026453dd",
     "grade": false,
     "grade_id": "cell-46ca70eb6fbdeb32",
     "locked": true,
     "schema_version": 3,
     "solution": false,
     "task": false
    }
   },
   "outputs": [],
   "source": [
    "# Небольшая проверка для себя\n",
    "import hashlib\n",
    "\n",
    "assert hashlib.sha256(str(round(new_accuracy, 2)).encode()).hexdigest() == 'b5d8ad5c26a5c111efb71de366e0842bba97693375a3b968d3169affff34c628'"
   ]
  },
  {
   "cell_type": "code",
   "execution_count": null,
   "metadata": {
    "deletable": false,
    "editable": false,
    "nbgrader": {
     "cell_type": "code",
     "checksum": "a22b4cfb964dccd66bb3335c5b631047",
     "grade": true,
     "grade_id": "cell-fc41ad9de5074628",
     "locked": true,
     "points": 1,
     "schema_version": 3,
     "solution": false,
     "task": false
    }
   },
   "outputs": [],
   "source": [
    "# проверка, просто запустите ячейку\n"
   ]
  },
  {
   "cell_type": "markdown",
   "metadata": {
    "deletable": false,
    "editable": false,
    "id": "RWB9OD-4-Y0q",
    "nbgrader": {
     "cell_type": "markdown",
     "checksum": "54d5a929173e9efb51b3155e07e7d018",
     "grade": false,
     "grade_id": "cell-73ccd17ef53533a2",
     "locked": true,
     "schema_version": 3,
     "solution": false,
     "task": false
    }
   },
   "source": [
    "6. Найдите L2-норму вектора весов для полученного классификатора (заметьте, как на нее повлияла регуляризация). Ответ округлите до двух знаков после запятой.\n",
    "\n",
    "    Заметьте, что вектор стал более разреженным, и в нем появились нулевые элементы - это результат действия L1-регуляризации."
   ]
  },
  {
   "cell_type": "code",
   "execution_count": null,
   "metadata": {
    "deletable": false,
    "id": "WKYcsHbBRuN0",
    "nbgrader": {
     "cell_type": "code",
     "checksum": "c9dc7b9fc39191a27649e03fae89c35d",
     "grade": false,
     "grade_id": "cell-25df119c1cd232ea",
     "locked": false,
     "schema_version": 3,
     "solution": true,
     "task": false
    }
   },
   "outputs": [],
   "source": [
    "# Ваше решение\n",
    "\n",
    "new_l2_norm = ...\n",
    "\n",
    "# your code here\n"
   ]
  },
  {
   "cell_type": "code",
   "execution_count": null,
   "metadata": {
    "deletable": false,
    "editable": false,
    "nbgrader": {
     "cell_type": "code",
     "checksum": "78de1a82364376da176efd2bffe1beec",
     "grade": true,
     "grade_id": "cell-049289222f5a5500",
     "locked": true,
     "points": 1,
     "schema_version": 3,
     "solution": false,
     "task": false
    }
   },
   "outputs": [],
   "source": [
    "# проверка, просто запустите ячейку\n"
   ]
  },
  {
   "cell_type": "markdown",
   "metadata": {
    "deletable": false,
    "editable": false,
    "id": "WioWROTf-Y0t",
    "nbgrader": {
     "cell_type": "markdown",
     "checksum": "915624c595239c51d313f7a255485385",
     "grade": false,
     "grade_id": "cell-a08e86166daa9cd3",
     "locked": true,
     "schema_version": 3,
     "solution": false,
     "task": false
    }
   },
   "source": [
    "7. Наконец, проверьте, как полученные классификаторы предсказывают не классы, а вероятности классов - так как мы работаем с логистической регрессией, это можно сделать. Посмотрите на вероятности, которые выдает первый классификатор (обученный с постоянным шагом градиентного спуска и без регуляризации) на тестовой части выборки. В этом вам поможет метод `predict_proba`. Результатом его работы будет список размера $N\\times 2$, где $N$ - это число объектов. В каждом столбце списка находятся вероятности соответствующего класса для объектов. Поэтому если вам нужен положительный класс, вас интересует последний столбец.\n",
    "\n",
    "    Какое получается значение AUC-ROC? Ответ округлите до двух знаков после запятой."
   ]
  },
  {
   "cell_type": "code",
   "execution_count": null,
   "metadata": {
    "deletable": false,
    "id": "QkuOlmt6RvaD",
    "nbgrader": {
     "cell_type": "code",
     "checksum": "d27cfda584f52fbb203c766e85b6e596",
     "grade": false,
     "grade_id": "cell-11cec7fc0ce13034",
     "locked": false,
     "schema_version": 3,
     "solution": true,
     "task": false
    }
   },
   "outputs": [],
   "source": [
    "# Ваше решение\n",
    "\n",
    "auc_roc = ...\n",
    "\n",
    "# your code here\n"
   ]
  },
  {
   "cell_type": "code",
   "execution_count": null,
   "metadata": {
    "deletable": false,
    "editable": false,
    "nbgrader": {
     "cell_type": "code",
     "checksum": "b29ce2678f3dd4d19f4ec85cdc12fd84",
     "grade": false,
     "grade_id": "cell-38be85c707fc7565",
     "locked": true,
     "schema_version": 3,
     "solution": false,
     "task": false
    }
   },
   "outputs": [],
   "source": [
    "# Небольшая проверка для себя\n",
    "import hashlib\n",
    "\n",
    "assert hashlib.sha256(str(round(auc_roc, 2)).encode()).hexdigest() == '37f253d59e6203142bd9b0b9a7ac8044b7217baca69cfc9846e3748a3f804cc0'"
   ]
  },
  {
   "cell_type": "code",
   "execution_count": null,
   "metadata": {
    "deletable": false,
    "editable": false,
    "nbgrader": {
     "cell_type": "code",
     "checksum": "31ef2ab79b6ad624dee6aa3e1b5d6a2c",
     "grade": true,
     "grade_id": "cell-d5b6eb8f8d78bd91",
     "locked": true,
     "points": 1,
     "schema_version": 3,
     "solution": false,
     "task": false
    }
   },
   "outputs": [],
   "source": [
    "# проверка, просто запустите ячейку\n"
   ]
  },
  {
   "cell_type": "markdown",
   "metadata": {
    "deletable": false,
    "editable": false,
    "id": "48tbMm0E-Y0w",
    "nbgrader": {
     "cell_type": "markdown",
     "checksum": "661d3b36bc7c53c9cab3b2243937a58a",
     "grade": false,
     "grade_id": "cell-3264a30b3ca57a0d",
     "locked": true,
     "schema_version": 3,
     "solution": false,
     "task": false
    }
   },
   "source": [
    "8. Посмотрите на вероятности, которые выдает второй классификатор (обученный с оптимальным шагом градиентного спуска и с регуляризацией) на тестовой части выборки. Что вы наблюдаете - как отличаются эти вероятности от вероятностей первого классификатора?\n",
    "\n",
    "   Посчитайте значение AUC-ROC второго классификатора. Ответ округлите до двух знаков после запятой."
   ]
  },
  {
   "cell_type": "code",
   "execution_count": null,
   "metadata": {
    "deletable": false,
    "id": "71cqXdqBRw5B",
    "nbgrader": {
     "cell_type": "code",
     "checksum": "acd72adf08e9fbb3a3bfe78d27140c3c",
     "grade": false,
     "grade_id": "cell-45ac2945e9931463",
     "locked": false,
     "schema_version": 3,
     "solution": true,
     "task": false
    }
   },
   "outputs": [],
   "source": [
    "# Ваше решение\n",
    "\n",
    "auc_roc2 = ...\n",
    "\n",
    "# your code here\n"
   ]
  },
  {
   "cell_type": "code",
   "execution_count": null,
   "metadata": {
    "deletable": false,
    "editable": false,
    "nbgrader": {
     "cell_type": "code",
     "checksum": "bf488cc44f4bfc2b8403c00b1e3438b4",
     "grade": false,
     "grade_id": "cell-48d92d4c3af483c5",
     "locked": true,
     "schema_version": 3,
     "solution": false,
     "task": false
    }
   },
   "outputs": [],
   "source": [
    "# Небольшая проверка для себя\n",
    "import hashlib\n",
    "\n",
    "assert hashlib.sha256(str(round(auc_roc2, 2)).encode()).hexdigest() == 'b2aa969b03b3bcd1a7aa48f0b8d311492dd9330242c76e7b4b0a8ad05898462f'"
   ]
  },
  {
   "cell_type": "code",
   "execution_count": null,
   "metadata": {
    "deletable": false,
    "editable": false,
    "nbgrader": {
     "cell_type": "code",
     "checksum": "4421ed0a8b9145361d24b790fef5de30",
     "grade": true,
     "grade_id": "cell-b7377aeca4560400",
     "locked": true,
     "points": 1,
     "schema_version": 3,
     "solution": false,
     "task": false
    }
   },
   "outputs": [],
   "source": [
    "# проверка, просто запустите ячейку\n"
   ]
  },
  {
   "cell_type": "markdown",
   "metadata": {
    "deletable": false,
    "editable": false,
    "id": "7P_Ap9jec0lC",
    "nbgrader": {
     "cell_type": "markdown",
     "checksum": "bf1d5a95748251f415cfeddeffe5da71",
     "grade": false,
     "grade_id": "cell-17bc53e4aa376a28",
     "locked": true,
     "schema_version": 3,
     "solution": false,
     "task": false
    }
   },
   "source": [
    "9. Какой признак является самым важным по мнению лучшей модели (имеет наибольший по модулю коэффициент) для принятия решения?"
   ]
  },
  {
   "cell_type": "code",
   "execution_count": null,
   "metadata": {
    "deletable": false,
    "id": "2AFsOXMYRyJg",
    "nbgrader": {
     "cell_type": "code",
     "checksum": "7e4fb7ca18824635c4fdc874173b1a52",
     "grade": false,
     "grade_id": "cell-08b49dc7e3b56589",
     "locked": false,
     "schema_version": 3,
     "solution": true,
     "task": false
    }
   },
   "outputs": [],
   "source": [
    "# Ваше решение\n",
    "\n",
    "best_feature = ...\n",
    "\n",
    "# your code here\n"
   ]
  },
  {
   "cell_type": "code",
   "execution_count": null,
   "metadata": {
    "deletable": false,
    "editable": false,
    "nbgrader": {
     "cell_type": "code",
     "checksum": "e75ffb3d5f58eb73d191bcbcb55cc319",
     "grade": true,
     "grade_id": "cell-07e4f884af66fdeb",
     "locked": true,
     "points": 1,
     "schema_version": 3,
     "solution": false,
     "task": false
    }
   },
   "outputs": [],
   "source": [
    "# проверка, просто запустите ячейку\n"
   ]
  }
 ],
 "metadata": {
  "colab": {
   "collapsed_sections": [],
   "name": "Неделя5_Линейная-классификация (correct).ipynb",
   "provenance": []
  },
  "kernelspec": {
   "display_name": "Python 3",
   "language": "python",
   "name": "python3"
  },
  "language_info": {
   "codemirror_mode": {
    "name": "ipython",
    "version": 3
   },
   "file_extension": ".py",
   "mimetype": "text/x-python",
   "name": "python",
   "nbconvert_exporter": "python",
   "pygments_lexer": "ipython3",
   "version": "3.7.6"
  }
 },
 "nbformat": 4,
 "nbformat_minor": 1
}
